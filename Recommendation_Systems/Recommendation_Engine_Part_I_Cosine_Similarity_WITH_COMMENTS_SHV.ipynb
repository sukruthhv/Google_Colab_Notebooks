{
  "nbformat": 4,
  "nbformat_minor": 0,
  "metadata": {
    "colab": {
      "name": "Recommendation_Engine_Part_I_Cosine_Similarity.ipynb",
      "provenance": [],
      "collapsed_sections": []
    },
    "hide_input": false,
    "kernelspec": {
      "display_name": "Python 3",
      "language": "python",
      "name": "python3"
    },
    "language_info": {
      "codemirror_mode": {
        "name": "ipython",
        "version": 3
      },
      "file_extension": ".py",
      "mimetype": "text/x-python",
      "name": "python",
      "nbconvert_exporter": "python",
      "pygments_lexer": "ipython3",
      "version": "3.6.10"
    },
    "toc": {
      "base_numbering": 1,
      "nav_menu": {},
      "number_sections": false,
      "sideBar": true,
      "skip_h1_title": false,
      "title_cell": "Table of Contents",
      "title_sidebar": "Contents",
      "toc_cell": false,
      "toc_position": {},
      "toc_section_display": true,
      "toc_window_display": false
    },
    "varInspector": {
      "cols": {
        "lenName": 16,
        "lenType": 16,
        "lenVar": 40
      },
      "kernels_config": {
        "python": {
          "delete_cmd_postfix": "",
          "delete_cmd_prefix": "del ",
          "library": "var_list.py",
          "varRefreshCmd": "print(var_dic_list())"
        },
        "r": {
          "delete_cmd_postfix": ") ",
          "delete_cmd_prefix": "rm(",
          "library": "var_list.r",
          "varRefreshCmd": "cat(var_dic_list()) "
        }
      },
      "types_to_exclude": [
        "module",
        "function",
        "builtin_function_or_method",
        "instance",
        "_Feature"
      ],
      "window_display": false
    }
  },
  "cells": [
    {
      "cell_type": "markdown",
      "metadata": {
        "id": "QcETaD_bzGmX"
      },
      "source": [
        "<img src = 'https://github.com/insaid2018/Term-1/blob/master/Images/INSAID_Full%20Logo.png?raw=true' width=\"240\" height=\"360\">\n",
        "\n",
        "# <center> <font color = red> Recommendation Engine Part I - Cosine Similarity </center>\n",
        "\n",
        "<img src = \"https://raw.githubusercontent.com/insaid2018/Term-4/master/images/start.png\">"
      ]
    },
    {
      "cell_type": "markdown",
      "metadata": {
        "id": "uVz2W1k-wvGs"
      },
      "source": [
        "## Table of Contents\n",
        "\n",
        "1. [Introduction](#section1)<br>\n",
        "2. [Structure](#section2)<br>\n",
        "3. [Recommendation System Approaches](#section3)<br>\n",
        "   - 3.1 [Content based Approach](#section301)<br>\n",
        "     - 3.1.1 [How to Create Profile Vector?](#section3011)<br>\n",
        "     - 3.1.2 [One Hot Encoding](#section3012)<br>\n",
        "     - 3.1.3 [TF-IDF (Term Frequency - Inverse Document Frequency)](#section3013)<br>\n",
        "   - 3.2 [Cosine Similarity](#section302)<br>\n",
        "   - 3.3 [Collaborative Filtering](#section303)<br>\n",
        "   - 3.4 [Neighbourhood based Approach](#section304)<br>\n",
        "   - 3.5 [Model based Approach](#section305)<br>\n",
        "   - 3.6 [Hybrid Models](#section306)<br>\n",
        "4. [The MovieLens Dataset](#section4)<br>\n",
        "5. [Data Exploration](#section5)<br>\n",
        "6. [Content based Recommendation Model](#section6)<br>\n",
        "7. [Collaborative Filtering Recommendation Model](#section7)<br>\n",
        "8. [Splitting the data](#section8)<br>\n",
        "9. [Model Evaluation](#section9)<br>\n",
        "10. [Model based Collaborative Filtering](#section10)<br> \n",
        "11. [Conclusion](#section11)<br> "
      ]
    },
    {
      "cell_type": "markdown",
      "metadata": {
        "id": "1SxKnUrZINBk"
      },
      "source": [
        "#### **Note: Kindly run this notebook on Google Colab to avoid Memory issues.**"
      ]
    },
    {
      "cell_type": "markdown",
      "metadata": {
        "id": "Z5IPU0fWzGma"
      },
      "source": [
        "<a id=section1></a>\n",
        "# 1. Introduction"
      ]
    },
    {
      "cell_type": "markdown",
      "metadata": {
        "id": "30tO-jnDzGmd"
      },
      "source": [
        "A **recommender system** or a **recommendation system** is a subclass of information filtering system that seeks to predict the \"rating\" or \"preference\" a user would give to an item. The primary focus is in commercial applications.<br><br>\n",
        "\n",
        "Recommender systems are utilized in a variety of areas, and are most commonly recognized as\n",
        "- Playlist generators for video and music services like Netflix, YouTube and Spotify, \n",
        "- Product recommenders for services such as Amazon or \n",
        "- Content recommenders for social media platforms such as Facebook and Twitter.\n",
        "    \n",
        "The system can operate using a single input, like music, or multiple inputs within and across platforms like news, books, search queries and ahve been developed to explore research articles and experts, collaborators, financial services and life insurance. "
      ]
    },
    {
      "cell_type": "markdown",
      "metadata": {
        "id": "pzz4F_BIzGmf"
      },
      "source": [
        "<img src = \"https://raw.githubusercontent.com/insaid2018/Term-4/master/images/rec1.png\">"
      ]
    },
    {
      "cell_type": "markdown",
      "metadata": {
        "id": "ZRZ0MLeszGmh"
      },
      "source": [
        "<a id=section2></a>\n",
        "# 2. Structure"
      ]
    },
    {
      "cell_type": "markdown",
      "metadata": {
        "id": "XC7XWYCyzGmj"
      },
      "source": [
        "<img src = \"https://raw.githubusercontent.com/insaid2018/Term-4/master/images/rec.jpg\">"
      ]
    },
    {
      "cell_type": "markdown",
      "metadata": {
        "id": "qf8BK_ZRzGml"
      },
      "source": [
        "<a id=section3></a>\n",
        "# 3. Recommendation System Approaches"
      ]
    },
    {
      "cell_type": "markdown",
      "metadata": {
        "id": "a4MBBg9wwvGy"
      },
      "source": [
        "<a id=section301></a>\n",
        "# 3.1 Content based Approach"
      ]
    },
    {
      "cell_type": "markdown",
      "metadata": {
        "id": "tQbTKeGpzGmn"
      },
      "source": [
        "This algorithm recommends products which are similar to the ones that a user has liked in the past.<br><br>\n",
        "__Consider the example of Netflix__ : \n",
        "<img src = \"https://raw.githubusercontent.com/insaid2018/Term-4/master/images/rec_netflix.png\">\n",
        "- They save all the __information related to each user__ in a vector form called __profile vector__. \n",
        "- Profile vector contains the past behaviour of the user, i.e. the movies liked/disliked by the user and the ratings given by them. \n",
        "- All the __information related to movies__ is stored in another vector called __item vector__. \n",
        "- Item vector contais the details of each movies, like genre, cast, director, etc."
      ]
    },
    {
      "cell_type": "markdown",
      "metadata": {
        "id": "RLw_q_S8zGmp"
      },
      "source": [
        "<a id=section3011></a>\n",
        "## 3.1.1 How to create Profile Vector?"
      ]
    },
    {
      "cell_type": "markdown",
      "metadata": {
        "id": "SnjLs1kizGmr"
      },
      "source": [
        "- Each item will have an item profile\n",
        "- A table structure will list these properties\n",
        "- Comparing what and how many features match and collect scores\n",
        "- Recommend highest scored item\n",
        "- Code will be based on a algorithm, by given some item, the most similar item will be found.\n",
        "- Best scoring match will be provide to the user\n",
        "- This method relies on item features only, and not the user preferences."
      ]
    },
    {
      "cell_type": "markdown",
      "metadata": {
        "id": "EL2KykNVzGmu"
      },
      "source": [
        "5 items profile are being constructed as an example, basd on top 5 sushi places in India. Sushi A, Sushi B, Sushi C, Sushi D and Sushi E.<br>\n",
        "\n",
        "<img src = \"https://raw.githubusercontent.com/insaid2018/Term-4/master/images/reco1.PNG\">"
      ]
    },
    {
      "cell_type": "markdown",
      "metadata": {
        "id": "ZTzDdYaQzGmv"
      },
      "source": [
        "Focusing on the featured words in the tables: Salmon, Tuna, Eel, Crab and Ramen.\n",
        "\n",
        "<img src = \"https://raw.githubusercontent.com/insaid2018/Term-4/master/images/reco3.PNG\">"
      ]
    },
    {
      "cell_type": "markdown",
      "metadata": {
        "id": "hbWGtyTFzGmw"
      },
      "source": [
        "Similarities were being compared between 5 sushi places, to see how many matches. It showed:\n",
        "- 4 matches between Sushi A and Sushi B.\n",
        "- 5 matches between Sushi A and Sushi C.\n",
        "- 4 matches between Sushi A and Sushi D.\n",
        "- 3 matches between Sushi A and Sushi E.\n",
        "\n",
        "\n",
        "**The Best match for Sushi A is Sushi C**"
      ]
    },
    {
      "cell_type": "markdown",
      "metadata": {
        "id": "zwK4_2sTzGmx"
      },
      "source": [
        "<a id=section3012></a>\n",
        "## 3.1.2 One Hot Encoding "
      ]
    },
    {
      "cell_type": "markdown",
      "metadata": {
        "id": "0woUf2aXzGmz"
      },
      "source": [
        "Giving categorical data to a computer for processing is like talking to a tree in Mandarin and expecting a reply.<br>\n",
        "- A one hot encoding is a representation of categorical variables as binary vectors\n",
        "- It is first required that the categorical values be mapped to integer values.\n",
        "- Then, each integer value is respresented as a binary vector that is al zero values except the index of the integer, which is marked wit a 1."
      ]
    },
    {
      "cell_type": "markdown",
      "metadata": {
        "id": "IK_25XduzGm0"
      },
      "source": [
        "<div class=\"alert alert-block alert-info\">\n",
        "<b>Source:</b> sklearn.preprocessing.OneHotEncoder\n",
        "</div>"
      ]
    },
    {
      "cell_type": "markdown",
      "metadata": {
        "id": "HTPM3ztxzGm1"
      },
      "source": [
        "<a id=section3013></a>\n",
        "## 3.1.3 TF-IDF (Term Frequency - Inverse Document Frequency)"
      ]
    },
    {
      "cell_type": "markdown",
      "metadata": {
        "id": "ht5gJGOMzGm3"
      },
      "source": [
        "- <font color = red>TF</font> - It signifies the occurrence of the word in a document.\n",
        "\n",
        "\n",
        "<img src = \"https://raw.githubusercontent.com/insaid2018/Term-4/master/images/tf.PNG\">\n",
        "\n",
        "- <font color = red>IDF</font> - It signifies the rarity of the word as the word occuring in the document.\n",
        "\n",
        "<img src = \"https://raw.githubusercontent.com/insaid2018/Term-4/master/images/idf.PNG\">\n",
        "\n",
        "- <font color = red>TF-IDF</font> - It is a measure used to evaluate how important a word is to a document in a document corpus. The importance of word increases proportionally to the number of times a word appears in the document but is offset by the frequency of the word in the corpus.\n",
        "\n",
        "\n",
        "TF-IDF is used mainly because of two reasons:\n",
        "- Suppose we search for \"the rise of AI\" on Google. It is certain that \"the\" will occur more frequently than \"AI\", but the relative importance of AI is higher.\n",
        "- In such case, TF-IDF weighting negates the effect of high frequency words in determining the importance of an item. "
      ]
    },
    {
      "cell_type": "markdown",
      "metadata": {
        "id": "eignefcszGm4"
      },
      "source": [
        "<a id=section302></a>\n",
        "# 3.2 Cosine Similarity"
      ]
    },
    {
      "cell_type": "markdown",
      "metadata": {
        "id": "KIuT_ArHzGm5"
      },
      "source": [
        "The content based filtering algorithm finds the cosine of the angle between the profile vector and item vector, i.e. __cosine similarity__.\n",
        "\n",
        "<img src = \"https://raw.githubusercontent.com/insaid2018/Term-4/master/images/cos.png\">\n",
        "\n",
        "Based on the cosine value, which ranges from __-1 to 1__, the movies are arranged in __descending order__ and one of the below two approaches is used for recommendations:\n",
        "\n",
        "- __Top-n approach__ : where the top n items are recommended.\n",
        "- __Rating scale approach__ : Where a threshold is set and all the items above that threshold are recommended"
      ]
    },
    {
      "cell_type": "markdown",
      "metadata": {
        "id": "PWNEwoCRzGm6"
      },
      "source": [
        "<a id=section303></a>\n",
        "# 3.3 Collaborative Filtering"
      ]
    },
    {
      "cell_type": "markdown",
      "metadata": {
        "id": "-AuSRNZOzGm9"
      },
      "source": [
        "Collaborative filtering, also referred as social filtering, filters information by using the recommendations of other people.\n",
        "- It is based on idea that people who agreed in their evaluation of certain items in the past are likely to agree again in the future.\n",
        "- A person who wants to watch a movie for example, might ask for recommendations from others.\n",
        "- This information is used in the decision on which movie to see.\n",
        "\n",
        "\n",
        "This technique is commonly used to build personalized recommendations on the Web. Some popular websites that make use of the collabaorative filtering technology include <font color = red>**Amazon**, **Netflix**, **iTunes**, **LastFM**</font>.<br><br>\n",
        "In collaborative filtering, algorithms are used too make automatic predictions about a user's interests by compiling preferences from several users.<br><br>\n",
        "\n",
        "<img src = \"https://raw.githubusercontent.com/insaid2018/Term-4/master/images/reco.gif\">\n",
        "\n",
        "**Types of Collaborative filtering techniques**<br>\n",
        "- <font color = blue> Neighbourhood Base Approach</font>\n",
        "    - User Based\n",
        "    - Item Based\n",
        "    \n",
        "- <font color = blue>Model Based Approach</font>\n",
        "    - Nearest Neighbours\n",
        "    - Matrix Factorization(SVD)\n",
        "   \n",
        "- <font color = blue>Hybrid Models</font>"
      ]
    },
    {
      "cell_type": "markdown",
      "metadata": {
        "id": "XZKGwuEuzGm-"
      },
      "source": [
        "<a id=section304></a>\n",
        "# 3.4 Neighbourhood based Approach"
      ]
    },
    {
      "cell_type": "markdown",
      "metadata": {
        "id": "HmFY72mBzGnA"
      },
      "source": [
        "Recommender systems based on neighborhood automate the common principle of word-of-mouth, where one relies on the opinion of like-minded people or other trusted sources to evaluate the value of an item (movie, book, articles, album, etc.) according to his own preferences."
      ]
    },
    {
      "cell_type": "markdown",
      "metadata": {
        "id": "-VxZyt29zGnA"
      },
      "source": [
        "<img src = \"https://raw.githubusercontent.com/insaid2018/Term-4/master/images/rec13.png\">"
      ]
    },
    {
      "cell_type": "markdown",
      "metadata": {
        "id": "b0wgHN-szGnC"
      },
      "source": [
        "In the image below, there are three user rating on five movies.\n",
        "- The rating is from 1 to 5.\n",
        "- 1 indidcates that the user does not like the movie at all.\n",
        "- 5 indicated the user adores it.\n",
        "- ? means that the movie hasn't been rated by the user.\n",
        "\n",
        "<img src = \"https://raw.githubusercontent.com/insaid2018/Term-4/master/images/reco5.PNG\">"
      ]
    },
    {
      "cell_type": "markdown",
      "metadata": {
        "id": "xAKjQg-LzGnD"
      },
      "source": [
        "The objective is to recommend top-N movies to a specific user, in here for Alex. In order to accomplish it,t he ratings of movies that are not not rated by Alex need to be prdicted first."
      ]
    },
    {
      "cell_type": "markdown",
      "metadata": {
        "id": "BZ2JuKkQzGnE"
      },
      "source": [
        "#### User Based Collbaorative Filtering<br>\n",
        "**<font color = red>Step 1:</font> Claculating similarity between Alex and all other users.**"
      ]
    },
    {
      "cell_type": "markdown",
      "metadata": {
        "id": "DC_AEsNkzGnF"
      },
      "source": [
        "The calculation for the similarity between Alex and Bob can be derived as follows: \n",
        "\n",
        "\n",
        "\\begin{align}\n",
        "sim(Alex, Bob) = \\frac{(4 * 5 + 2 * 3 + 4 * 3)}{[sqrt(4²+ 2²+ 4²) * sqrt(5² + 3² + 3²)]} = 0.97\\\\\n",
        "\\end{align}"
      ]
    },
    {
      "cell_type": "markdown",
      "metadata": {
        "id": "J8cOwqa3zGnG"
      },
      "source": [
        "**<font color = red>Step 2:</font> Predict the ratings of the movies thata re rated by Alex**"
      ]
    },
    {
      "cell_type": "markdown",
      "metadata": {
        "id": "PaFG9MZgzGnH"
      },
      "source": [
        "First k value is needs to be calculated by injecting the similarity values:\n",
        "\n",
        "\\begin{align}\n",
        "k = \\frac{1}{(0.97+1)} = 0.51\\\\\n",
        "\\end{align}"
      ]
    },
    {
      "cell_type": "markdown",
      "metadata": {
        "id": "VtnUDevRzGnI"
      },
      "source": [
        "Now the movie Thor unrated by Alex can be worked by following calculation\n",
        "\n",
        "\\begin{align}\n",
        "R(Alex, Thor) =\\ k * [sim(Alex, Bob) * R(Bob, Thor)+ sim(Alex, Tom) * R(Tom, Thor)]= 0.51 * (0.97 * 4 + 1 * 4) = 4.02\\\\\n",
        "\\end{align}"
      ]
    },
    {
      "cell_type": "markdown",
      "metadata": {
        "id": "XCOUOprjzGnK"
      },
      "source": [
        "<img src = \"https://raw.githubusercontent.com/insaid2018/Term-4/master/images/reco6.PNG\">"
      ]
    },
    {
      "cell_type": "markdown",
      "metadata": {
        "id": "CbqAgs7KzGnL"
      },
      "source": [
        "**<font color = red>Step 3:</font> Select top-2 rated movies**<br>\n",
        "Since now the non-rated movie have been predicted, it is starightforward to find top-2 movies, which are Spider-man and Thor.  "
      ]
    },
    {
      "cell_type": "markdown",
      "metadata": {
        "id": "MiSxm8NKzGnM"
      },
      "source": [
        "#### Item-Based Collaborative Filtering"
      ]
    },
    {
      "cell_type": "markdown",
      "metadata": {
        "id": "JLD7GLlFzGnO"
      },
      "source": [
        "**<font color = red>Step 1:</font>Transpose the user-item matrix to the item-user matrix**"
      ]
    },
    {
      "cell_type": "markdown",
      "metadata": {
        "id": "BPAH1YKXzGnP"
      },
      "source": [
        "<img src = \"https://raw.githubusercontent.com/insaid2018/Term-4/master/images/reco7.PNG\">"
      ]
    },
    {
      "cell_type": "markdown",
      "metadata": {
        "id": "EdMOl8A3zGnQ"
      },
      "source": [
        "**<font color = red>Step 2:</font> Calculate the similarity between any two items and fill up the item-item similarity matrix**"
      ]
    },
    {
      "cell_type": "markdown",
      "metadata": {
        "id": "Bdd90V5hzGnR"
      },
      "source": [
        "Calculating similarity between Avenger and Star wars is demonstrated below:\n",
        "\n",
        "\\begin{align}\n",
        "sim(Avengers, Star wars) = \\frac{(4 * 2 + 5 * 3)}{[sqrt(4² + 5²) * sqrt(2² + 3²)]} = 0.99624059\\\\\n",
        "\\end{align}"
      ]
    },
    {
      "cell_type": "markdown",
      "metadata": {
        "id": "7CX3sR8_zGnT"
      },
      "source": [
        "In the similar way, the item-item similarity matrix is calculated and filled in the below table, where 0 means the similarity between the two movies cannot be calculated due to **data sparsity**."
      ]
    },
    {
      "cell_type": "markdown",
      "metadata": {
        "id": "99mIWqtnzGnU"
      },
      "source": [
        "<img src = \"https://raw.githubusercontent.com/insaid2018/Term-4/master/images/reco8.PNG\">"
      ]
    },
    {
      "cell_type": "markdown",
      "metadata": {
        "id": "KwF_6MTAzGnV"
      },
      "source": [
        "**<font color = red>Step 3:</font> Predict the ratings of movies that are rated by Alex**"
      ]
    },
    {
      "cell_type": "markdown",
      "metadata": {
        "id": "Y20xWxTSzGnV"
      },
      "source": [
        "After builidng the item-item similarity matrix, the rating can be injected which are not present as following:\n",
        "\n",
        "\\begin{align}\n",
        "R(Alex, Thor) = \\frac{(sim(Thor,Avengers) * R(Alex,Avengers) + sim(Thor, Iron man) * R(Alex, Iron man))}{(sim(Thor, Avengers) + sim(Thor, Iron man))} = 4\\\\\n",
        "\\end{align}"
      ]
    },
    {
      "cell_type": "markdown",
      "metadata": {
        "id": "kU-J5IM5zGnX"
      },
      "source": [
        "**<font color = red>Step 4:</font> Select top-2 rated movies for Alex**"
      ]
    },
    {
      "cell_type": "markdown",
      "metadata": {
        "id": "PXNvtXDxzGnX"
      },
      "source": [
        "It in now obvious here that three movies tie for second place, so the top-2 rated movies by Alex is comprised of Spider-man and one of the three tied movies - Avengers, Thor and Iron man.\n",
        "\n",
        "<img src = \"https://raw.githubusercontent.com/insaid2018/Term-4/master/images/reco9.PNG\">"
      ]
    },
    {
      "cell_type": "markdown",
      "metadata": {
        "id": "0-JiWR62zGnY"
      },
      "source": [
        "<a id=section305></a>\n",
        "# 3.5. Model based Approach"
      ]
    },
    {
      "cell_type": "markdown",
      "metadata": {
        "id": "lvY43I2WzGnZ"
      },
      "source": [
        "<img src = \"https://raw.githubusercontent.com/insaid2018/Term-4/master/images/modelbased.PNG\">"
      ]
    },
    {
      "cell_type": "markdown",
      "metadata": {
        "id": "DpDYbCYtzGnb"
      },
      "source": [
        "#### Clustering based approach"
      ]
    },
    {
      "cell_type": "markdown",
      "metadata": {
        "id": "ZrQ9q3oxzGnd"
      },
      "source": [
        "In clustering based approach, the recommendations are transformed into a clustering like problem, where the similarity measure is based on \"How close two items are, while generating recommendations\"?\n",
        "- The measure for generating recommednation will be on the basis of similarity of two items like vector distance between these itmes.\n",
        "- The idea is same as that of memory based recommendations, using similarity between user/items and use them as weights to predict a rating from a user and an item.\n",
        "- In this the only difference is that similarities are calculated based on an unspervised learning model, rather than Pearson correlation or cosine similarity.\n",
        "- In this, we limit the number of similar users as k, which makes the system more scalable."
      ]
    },
    {
      "cell_type": "markdown",
      "metadata": {
        "id": "JPX8k9UdzGnf"
      },
      "source": [
        "<img src = \"https://raw.githubusercontent.com/insaid2018/Term-4/master/images/clustering.jpg\">"
      ]
    },
    {
      "cell_type": "markdown",
      "metadata": {
        "id": "8TxHEGGCzGno"
      },
      "source": [
        "<a id=section306></a>\n",
        "# 3.6 Hybrid Models"
      ]
    },
    {
      "cell_type": "markdown",
      "metadata": {
        "id": "3L7YokaXzGnr"
      },
      "source": [
        "Both content-based filtering and collaborative filtering have there strengths and weaknesses.<br>\n",
        "Content-based filtering:\n",
        "- Content description\n",
        "- Over-specialization\n",
        "- Subjective Domain problem\n",
        "\n",
        "Collabprative filtering:\n",
        "- Early rater problem\n",
        "- Sparsity\n",
        "- Data Scalability\n",
        "\n",
        "A system that combines content-based filtering and collaborative filtering could take advantage from both the representation of the content as well as similarities among users."
      ]
    },
    {
      "cell_type": "markdown",
      "metadata": {
        "id": "tsaKtx3gzGns"
      },
      "source": [
        "**Collaboration via Content**<br><br>\n",
        "- In this, both the rated items and content of the items are used to construct a user profile. \n",
        "- The selection of terms which describe the content of the items is done using content-based techniques.\n",
        "- The weight of terms indicate how important they are to the users.\n",
        "\n",
        "Five terms and movie ratings:\n",
        "<img src = \"https://raw.githubusercontent.com/insaid2018/Term-4/master/images/cvc.PNG\">"
      ]
    },
    {
      "cell_type": "markdown",
      "metadata": {
        "id": "JHvFcsUCzGnt"
      },
      "source": [
        "In here,\n",
        "- In collaborative, instead of determining the correlation with users ratings, term weights are used.\n",
        "- Unlike content based filtering, predicitions are based on the impressions of other users which could lead to recommendations outside the normal environment of a user."
      ]
    },
    {
      "cell_type": "markdown",
      "metadata": {
        "id": "wpl2qcZbzGnu"
      },
      "source": [
        "### Pro's and Con's of Hybrid Models"
      ]
    },
    {
      "cell_type": "markdown",
      "metadata": {
        "id": "9nlYhf_hzGnu"
      },
      "source": [
        "Pros:\n",
        "- Fast to implement\n",
        "- Fast to execute\n",
        "- Not much storage space required\n",
        "- Very successful in broad applications for large populations such as shelf layout in retail stores.\n",
        "\n",
        "Cons:\n",
        "- Not suitable of knowledge of prefernce change rapidly.\n",
        "- Sometime may lead to stupid recommendations"
      ]
    },
    {
      "cell_type": "markdown",
      "metadata": {
        "id": "d6qbbQlUzGnv"
      },
      "source": [
        "<a id=section4></a>\n",
        "# 4. The MovieLens Dataset\n",
        "One of the most common datasets that is available on the internet for building a Recommender System is the [MovieLens DataSet](https://grouplens.org/datasets/movielens/). This version of the dataset that we're working with ([1M](https://grouplens.org/datasets/movielens/1m/)) contains 1,000,209 anonymous ratings of approximately 3,900 movies made by 6,040 MovieLens users who joined MovieLens in 2000.\n",
        "\n",
        "The data was collected by GroupLens researchers over various periods of time, depending on the size of the set. This 1M version was released on February 2003. Users were selected at random for inclusion. All users selected had rated at least 20 movies. Each user is represented by an id, and no other information is provided.\n",
        "\n",
        "The original data are contained in three files, [movies.dat](https://github.com/khanhnamle1994/movielens/blob/master/dat/movies.dat), [ratings.dat](https://github.com/khanhnamle1994/movielens/blob/master/dat/ratings.dat) and [users.dat](https://github.com/khanhnamle1994/movielens/blob/master/dat/users.dat). To make it easier to work with the data, we converted them into csv files.\n",
        "\n",
        "<img src =\"https://raw.githubusercontent.com/insaid2018/Term-4/master/images/movie.jpeg\">"
      ]
    },
    {
      "cell_type": "code",
      "metadata": {
        "id": "I_YRg_pMzGnx"
      },
      "source": [
        "import pandas as pd\n",
        "import numpy as np\n",
        "import matplotlib.pyplot as plt\n",
        "\n",
        "# Reading ratings file\n",
        "# Ignore the timestamp column\n",
        "ratings = pd.read_csv('https://raw.githubusercontent.com/insaid2018/Term-4/master/Data/Assignment/ratings.csv', sep='\\t', encoding='latin-1', usecols=['user_id', 'movie_id', 'rating'])\n",
        "\n",
        "# Reading users file\n",
        "users = pd.read_csv('https://raw.githubusercontent.com/insaid2018/Term-4/master/Data/Assignment/users.csv', sep='\\t', encoding='latin-1', usecols=['user_id', 'gender', 'zipcode', 'age_desc', 'occ_desc'])\n",
        "\n",
        "# Reading movies file\n",
        "movies = pd.read_csv('https://raw.githubusercontent.com/insaid2018/Term-4/master/Data/Assignment/movies.csv', sep='\\t', encoding='latin-1', usecols=['movie_id', 'title', 'genres'])"
      ],
      "execution_count": 3,
      "outputs": []
    },
    {
      "cell_type": "markdown",
      "metadata": {
        "id": "bJWb-q8mzGn2"
      },
      "source": [
        "Now lets take a peak into the content of each file to understand them better.\n",
        "\n",
        "### Ratings Dataset"
      ]
    },
    {
      "cell_type": "code",
      "metadata": {
        "colab": {
          "base_uri": "https://localhost:8080/"
        },
        "id": "ALtZ-bxGzGn2",
        "outputId": "5d150f9b-b0ac-492a-99dc-47ec8ef07582"
      },
      "source": [
        "# Check the top 5 rows\n",
        "print(ratings.head())"
      ],
      "execution_count": 4,
      "outputs": [
        {
          "output_type": "stream",
          "text": [
            "   user_id  movie_id  rating\n",
            "0        1      1193       5\n",
            "1        1       661       3\n",
            "2        1       914       3\n",
            "3        1      3408       4\n",
            "4        1      2355       5\n"
          ],
          "name": "stdout"
        }
      ]
    },
    {
      "cell_type": "code",
      "metadata": {
        "colab": {
          "base_uri": "https://localhost:8080/"
        },
        "id": "m1dI75z0zGn6",
        "outputId": "855612ea-ba01-49e2-8ba6-33e3d4c128a3"
      },
      "source": [
        "# Check the file info\n",
        "print(ratings.info())"
      ],
      "execution_count": 5,
      "outputs": [
        {
          "output_type": "stream",
          "text": [
            "<class 'pandas.core.frame.DataFrame'>\n",
            "RangeIndex: 1000209 entries, 0 to 1000208\n",
            "Data columns (total 3 columns):\n",
            " #   Column    Non-Null Count    Dtype\n",
            "---  ------    --------------    -----\n",
            " 0   user_id   1000209 non-null  int64\n",
            " 1   movie_id  1000209 non-null  int64\n",
            " 2   rating    1000209 non-null  int64\n",
            "dtypes: int64(3)\n",
            "memory usage: 22.9 MB\n",
            "None\n"
          ],
          "name": "stdout"
        }
      ]
    },
    {
      "cell_type": "markdown",
      "metadata": {
        "id": "QHEZlaMBzGn-"
      },
      "source": [
        "This confirms that there are 1M ratings for different user and movie combinations.\n",
        "\n",
        "### Users Dataset"
      ]
    },
    {
      "cell_type": "code",
      "metadata": {
        "colab": {
          "base_uri": "https://localhost:8080/"
        },
        "id": "iOy7FqUczGn-",
        "outputId": "e92601a4-16fe-4561-c563-abd030600937"
      },
      "source": [
        "# Check the top 5 rows\n",
        "print(users.head())"
      ],
      "execution_count": 6,
      "outputs": [
        {
          "output_type": "stream",
          "text": [
            "   user_id gender zipcode  age_desc              occ_desc\n",
            "0        1      F   48067  Under 18          K-12 student\n",
            "1        2      M   70072       56+         self-employed\n",
            "2        3      M   55117     25-34             scientist\n",
            "3        4      M   02460     45-49  executive/managerial\n",
            "4        5      M   55455     25-34                writer\n"
          ],
          "name": "stdout"
        }
      ]
    },
    {
      "cell_type": "code",
      "metadata": {
        "colab": {
          "base_uri": "https://localhost:8080/"
        },
        "id": "KmSndzmDzGoD",
        "outputId": "180c7053-2c9e-4114-d86c-8a0197beaf06"
      },
      "source": [
        "# Check the file info\n",
        "print(users.info())"
      ],
      "execution_count": 7,
      "outputs": [
        {
          "output_type": "stream",
          "text": [
            "<class 'pandas.core.frame.DataFrame'>\n",
            "RangeIndex: 6040 entries, 0 to 6039\n",
            "Data columns (total 5 columns):\n",
            " #   Column    Non-Null Count  Dtype \n",
            "---  ------    --------------  ----- \n",
            " 0   user_id   6040 non-null   int64 \n",
            " 1   gender    6040 non-null   object\n",
            " 2   zipcode   6040 non-null   object\n",
            " 3   age_desc  6040 non-null   object\n",
            " 4   occ_desc  6040 non-null   object\n",
            "dtypes: int64(1), object(4)\n",
            "memory usage: 236.1+ KB\n",
            "None\n"
          ],
          "name": "stdout"
        }
      ]
    },
    {
      "cell_type": "markdown",
      "metadata": {
        "id": "lpL6nzwwzGoG"
      },
      "source": [
        "This confirms that there are 6040 users and we have 5 features for each (unique user ID, gender, age, occupation and the zip code they are living in).\n",
        "\n",
        "### Movies Dataset"
      ]
    },
    {
      "cell_type": "code",
      "metadata": {
        "colab": {
          "base_uri": "https://localhost:8080/"
        },
        "id": "OKbJxVESzGoH",
        "outputId": "56b9bcd3-031c-491c-dd02-d6bedbd8b2ea"
      },
      "source": [
        "# Check the top 5 rows\n",
        "print(movies.head())"
      ],
      "execution_count": 8,
      "outputs": [
        {
          "output_type": "stream",
          "text": [
            "   movie_id                               title                        genres\n",
            "0         1                    Toy Story (1995)   Animation|Children's|Comedy\n",
            "1         2                      Jumanji (1995)  Adventure|Children's|Fantasy\n",
            "2         3             Grumpier Old Men (1995)                Comedy|Romance\n",
            "3         4            Waiting to Exhale (1995)                  Comedy|Drama\n",
            "4         5  Father of the Bride Part II (1995)                        Comedy\n"
          ],
          "name": "stdout"
        }
      ]
    },
    {
      "cell_type": "code",
      "metadata": {
        "colab": {
          "base_uri": "https://localhost:8080/"
        },
        "id": "-dn0DTq4zGoK",
        "outputId": "4c38ebf0-e895-40e5-c134-45697d48f2cf"
      },
      "source": [
        "# Check the file info\n",
        "print(movies.info())"
      ],
      "execution_count": 9,
      "outputs": [
        {
          "output_type": "stream",
          "text": [
            "<class 'pandas.core.frame.DataFrame'>\n",
            "RangeIndex: 3883 entries, 0 to 3882\n",
            "Data columns (total 3 columns):\n",
            " #   Column    Non-Null Count  Dtype \n",
            "---  ------    --------------  ----- \n",
            " 0   movie_id  3883 non-null   int64 \n",
            " 1   title     3883 non-null   object\n",
            " 2   genres    3883 non-null   object\n",
            "dtypes: int64(1), object(2)\n",
            "memory usage: 91.1+ KB\n",
            "None\n"
          ],
          "name": "stdout"
        }
      ]
    },
    {
      "cell_type": "markdown",
      "metadata": {
        "id": "ibERsMYjzGoN"
      },
      "source": [
        "This dataset contains attributes of the 3883 movies. There are 3 columns including the movie ID, their titles, and their genres. Genres are pipe-separated and are selected from 18 genres (Action, Adventure, Animation, Children's, Comedy, Crime, Documentary, Drama, Fantasy, Film-Noir, Horror, Musical, Mystery, Romance, Sci-Fi, Thriller, War, Western)."
      ]
    },
    {
      "cell_type": "markdown",
      "metadata": {
        "id": "YUXUVeQPzGoO"
      },
      "source": [
        "<a id=section5></a>\n",
        "# 5. Data Exploration\n",
        "\n",
        "### Ratings"
      ]
    },
    {
      "cell_type": "code",
      "metadata": {
        "colab": {
          "base_uri": "https://localhost:8080/"
        },
        "id": "eIk9BdplzGoP",
        "outputId": "bb3520e8-515f-42da-bf79-72835071ed5c"
      },
      "source": [
        "# Get summary statistics of rating\n",
        "ratings['rating'].describe()"
      ],
      "execution_count": 10,
      "outputs": [
        {
          "output_type": "execute_result",
          "data": {
            "text/plain": [
              "count    1.000209e+06\n",
              "mean     3.581564e+00\n",
              "std      1.117102e+00\n",
              "min      1.000000e+00\n",
              "25%      3.000000e+00\n",
              "50%      4.000000e+00\n",
              "75%      4.000000e+00\n",
              "max      5.000000e+00\n",
              "Name: rating, dtype: float64"
            ]
          },
          "metadata": {
            "tags": []
          },
          "execution_count": 10
        }
      ]
    },
    {
      "cell_type": "code",
      "metadata": {
        "colab": {
          "base_uri": "https://localhost:8080/",
          "height": 369
        },
        "id": "KQsze5t1zGoS",
        "outputId": "26fb1267-fdc6-41c4-fbed-1f88d5769b65"
      },
      "source": [
        "import seaborn as sns\n",
        "sns.set_style('whitegrid')\n",
        "sns.set(font_scale=1.5)\n",
        "%matplotlib inline\n",
        "\n",
        "# Display distribution of rating\n",
        "sns.distplot(ratings['rating'].fillna(ratings['rating'].median()))"
      ],
      "execution_count": 11,
      "outputs": [
        {
          "output_type": "stream",
          "text": [
            "/usr/local/lib/python3.6/dist-packages/seaborn/distributions.py:2551: FutureWarning: `distplot` is a deprecated function and will be removed in a future version. Please adapt your code to use either `displot` (a figure-level function with similar flexibility) or `histplot` (an axes-level function for histograms).\n",
            "  warnings.warn(msg, FutureWarning)\n"
          ],
          "name": "stderr"
        },
        {
          "output_type": "execute_result",
          "data": {
            "text/plain": [
              "<matplotlib.axes._subplots.AxesSubplot at 0x7f801b62d160>"
            ]
          },
          "metadata": {
            "tags": []
          },
          "execution_count": 11
        },
        {
          "output_type": "display_data",
          "data": {
            "image/png": "[encoded data removed]",
            "text/plain": [
              "<Figure size 432x288 with 1 Axes>"
            ]
          },
          "metadata": {
            "tags": [],
            "needs_background": "light"
          }
        }
      ]
    },
    {
      "cell_type": "markdown",
      "metadata": {
        "id": "nXpuW6cizGoV"
      },
      "source": [
        "- It appears that users are quite generous in their ratings. \n",
        "- The mean rating is 3.58 on a scale of 5. Half the movies have a rating of 4 and 5.\n",
        "- Each user rated at least 20 movies, so I doubt the distribution could be caused just by chance variance in the quality of movies.\n",
        "\n",
        "Let's also take a look at a subset of 20 movies with the highest rating."
      ]
    },
    {
      "cell_type": "markdown",
      "metadata": {
        "id": "wifspEz6zGoW"
      },
      "source": [
        "#### Join all 3 files into one dataframe"
      ]
    },
    {
      "cell_type": "code",
      "metadata": {
        "id": "CZizbbv0zGoW"
      },
      "source": [
        "dataset = pd.merge(pd.merge(movies, ratings),users)"
      ],
      "execution_count": 12,
      "outputs": []
    },
    {
      "cell_type": "markdown",
      "metadata": {
        "id": "WXoWnte1zGoZ"
      },
      "source": [
        "#### Display 20 movies with highest ratings"
      ]
    },
    {
      "cell_type": "code",
      "metadata": {
        "colab": {
          "base_uri": "https://localhost:8080/",
          "height": 669
        },
        "id": "uimNZ5CjzGoa",
        "outputId": "cbdb6429-25d4-471a-d811-41471f96c901"
      },
      "source": [
        "dataset[['title','genres','rating']].sort_values('rating', ascending=False).head(20)"
      ],
      "execution_count": 13,
      "outputs": [
        {
          "output_type": "execute_result",
          "data": {
            "text/html": [
              "<div>\n",
              "<style scoped>\n",
              "    .dataframe tbody tr th:only-of-type {\n",
              "        vertical-align: middle;\n",
              "    }\n",
              "\n",
              "    .dataframe tbody tr th {\n",
              "        vertical-align: top;\n",
              "    }\n",
              "\n",
              "    .dataframe thead th {\n",
              "        text-align: right;\n",
              "    }\n",
              "</style>\n",
              "<table border=\"1\" class=\"dataframe\">\n",
              "  <thead>\n",
              "    <tr style=\"text-align: right;\">\n",
              "      <th></th>\n",
              "      <th>title</th>\n",
              "      <th>genres</th>\n",
              "      <th>rating</th>\n",
              "    </tr>\n",
              "  </thead>\n",
              "  <tbody>\n",
              "    <tr>\n",
              "      <th>0</th>\n",
              "      <td>Toy Story (1995)</td>\n",
              "      <td>Animation|Children's|Comedy</td>\n",
              "      <td>5</td>\n",
              "    </tr>\n",
              "    <tr>\n",
              "      <th>489283</th>\n",
              "      <td>American Beauty (1999)</td>\n",
              "      <td>Comedy|Drama</td>\n",
              "      <td>5</td>\n",
              "    </tr>\n",
              "    <tr>\n",
              "      <th>489259</th>\n",
              "      <td>Election (1999)</td>\n",
              "      <td>Comedy</td>\n",
              "      <td>5</td>\n",
              "    </tr>\n",
              "    <tr>\n",
              "      <th>489257</th>\n",
              "      <td>Matrix, The (1999)</td>\n",
              "      <td>Action|Sci-Fi|Thriller</td>\n",
              "      <td>5</td>\n",
              "    </tr>\n",
              "    <tr>\n",
              "      <th>489256</th>\n",
              "      <td>Dead Ringers (1988)</td>\n",
              "      <td>Drama|Thriller</td>\n",
              "      <td>5</td>\n",
              "    </tr>\n",
              "    <tr>\n",
              "      <th>489237</th>\n",
              "      <td>Rushmore (1998)</td>\n",
              "      <td>Comedy</td>\n",
              "      <td>5</td>\n",
              "    </tr>\n",
              "    <tr>\n",
              "      <th>489236</th>\n",
              "      <td>Simple Plan, A (1998)</td>\n",
              "      <td>Crime|Thriller</td>\n",
              "      <td>5</td>\n",
              "    </tr>\n",
              "    <tr>\n",
              "      <th>489226</th>\n",
              "      <td>Hands on a Hard Body (1996)</td>\n",
              "      <td>Documentary</td>\n",
              "      <td>5</td>\n",
              "    </tr>\n",
              "    <tr>\n",
              "      <th>489224</th>\n",
              "      <td>Pleasantville (1998)</td>\n",
              "      <td>Comedy</td>\n",
              "      <td>5</td>\n",
              "    </tr>\n",
              "    <tr>\n",
              "      <th>489212</th>\n",
              "      <td>Say Anything... (1989)</td>\n",
              "      <td>Comedy|Drama|Romance</td>\n",
              "      <td>5</td>\n",
              "    </tr>\n",
              "    <tr>\n",
              "      <th>489207</th>\n",
              "      <td>Beetlejuice (1988)</td>\n",
              "      <td>Comedy|Fantasy</td>\n",
              "      <td>5</td>\n",
              "    </tr>\n",
              "    <tr>\n",
              "      <th>489190</th>\n",
              "      <td>Roger &amp; Me (1989)</td>\n",
              "      <td>Comedy|Documentary</td>\n",
              "      <td>5</td>\n",
              "    </tr>\n",
              "    <tr>\n",
              "      <th>489172</th>\n",
              "      <td>Buffalo 66 (1998)</td>\n",
              "      <td>Action|Comedy|Drama</td>\n",
              "      <td>5</td>\n",
              "    </tr>\n",
              "    <tr>\n",
              "      <th>489171</th>\n",
              "      <td>Out of Sight (1998)</td>\n",
              "      <td>Action|Crime|Romance</td>\n",
              "      <td>5</td>\n",
              "    </tr>\n",
              "    <tr>\n",
              "      <th>489170</th>\n",
              "      <td>I Went Down (1997)</td>\n",
              "      <td>Action|Comedy|Crime</td>\n",
              "      <td>5</td>\n",
              "    </tr>\n",
              "    <tr>\n",
              "      <th>489168</th>\n",
              "      <td>Opposite of Sex, The (1998)</td>\n",
              "      <td>Comedy|Drama</td>\n",
              "      <td>5</td>\n",
              "    </tr>\n",
              "    <tr>\n",
              "      <th>489157</th>\n",
              "      <td>Good Will Hunting (1997)</td>\n",
              "      <td>Drama</td>\n",
              "      <td>5</td>\n",
              "    </tr>\n",
              "    <tr>\n",
              "      <th>489152</th>\n",
              "      <td>Fast, Cheap &amp; Out of Control (1997)</td>\n",
              "      <td>Documentary</td>\n",
              "      <td>5</td>\n",
              "    </tr>\n",
              "    <tr>\n",
              "      <th>489149</th>\n",
              "      <td>L.A. Confidential (1997)</td>\n",
              "      <td>Crime|Film-Noir|Mystery|Thriller</td>\n",
              "      <td>5</td>\n",
              "    </tr>\n",
              "    <tr>\n",
              "      <th>489145</th>\n",
              "      <td>Contact (1997)</td>\n",
              "      <td>Drama|Sci-Fi</td>\n",
              "      <td>5</td>\n",
              "    </tr>\n",
              "  </tbody>\n",
              "</table>\n",
              "</div>"
            ],
            "text/plain": [
              "                                      title  ... rating\n",
              "0                          Toy Story (1995)  ...      5\n",
              "489283               American Beauty (1999)  ...      5\n",
              "489259                      Election (1999)  ...      5\n",
              "489257                   Matrix, The (1999)  ...      5\n",
              "489256                  Dead Ringers (1988)  ...      5\n",
              "489237                      Rushmore (1998)  ...      5\n",
              "489236                Simple Plan, A (1998)  ...      5\n",
              "489226          Hands on a Hard Body (1996)  ...      5\n",
              "489224                 Pleasantville (1998)  ...      5\n",
              "489212               Say Anything... (1989)  ...      5\n",
              "489207                   Beetlejuice (1988)  ...      5\n",
              "489190                    Roger & Me (1989)  ...      5\n",
              "489172                    Buffalo 66 (1998)  ...      5\n",
              "489171                  Out of Sight (1998)  ...      5\n",
              "489170                   I Went Down (1997)  ...      5\n",
              "489168          Opposite of Sex, The (1998)  ...      5\n",
              "489157             Good Will Hunting (1997)  ...      5\n",
              "489152  Fast, Cheap & Out of Control (1997)  ...      5\n",
              "489149             L.A. Confidential (1997)  ...      5\n",
              "489145                       Contact (1997)  ...      5\n",
              "\n",
              "[20 rows x 3 columns]"
            ]
          },
          "metadata": {
            "tags": []
          },
          "execution_count": 13
        }
      ]
    },
    {
      "cell_type": "markdown",
      "metadata": {
        "id": "Voz_DbOnzGoc"
      },
      "source": [
        "### Genres\n",
        "The genres variable will surely be important while building the recommendation engines since it describes the content of the film (i.e. Animation, Horror, Sci-Fi). A basic assumption is that films in the same genre should have similar contents. We'll attempt to see exactly which genres are the most popular."
      ]
    },
    {
      "cell_type": "code",
      "metadata": {
        "id": "R-Mv2tNjzGod"
      },
      "source": [
        "# Make a census of the genre keywords\n",
        "\n",
        "genre_labels = set()\n",
        "for s in movies['genres'].str.split('|').values:\n",
        "    genre_labels = genre_labels.union(set(s))"
      ],
      "execution_count": 14,
      "outputs": []
    },
    {
      "cell_type": "code",
      "metadata": {
        "id": "tD4DNjF6wvIe"
      },
      "source": [
        "# Function that counts the number of times each of the genre keywords appear\n",
        "\n",
        "def count_word(dataset, ref_col, census):\n",
        "    keyword_count = dict()\n",
        "    for s in census: \n",
        "        keyword_count[s] = 0\n",
        "    for census_keywords in dataset[ref_col].str.split('|'):        \n",
        "        if type(census_keywords) == float and pd.isnull(census_keywords): \n",
        "            continue        \n",
        "        for s in [s for s in census_keywords if s in census]: \n",
        "            if pd.notnull(s): \n",
        "                keyword_count[s] += 1\n",
        "    \n",
        "# convert the dictionary in a list to sort the keywords by frequency\n",
        "\n",
        "    keyword_occurences = []\n",
        "    for k,v in keyword_count.items():\n",
        "        keyword_occurences.append([k,v])\n",
        "    keyword_occurences.sort(key = lambda x:x[1], reverse = True)\n",
        "    return keyword_occurences, keyword_count"
      ],
      "execution_count": 15,
      "outputs": []
    },
    {
      "cell_type": "code",
      "metadata": {
        "colab": {
          "base_uri": "https://localhost:8080/"
        },
        "id": "A4exfxmHwvIh",
        "outputId": "26dc9ec5-8e09-4408-bdf1-fd82bc10970d"
      },
      "source": [
        "# Calling this function gives access to a list of genre keywords which are sorted by decreasing frequency\n",
        "\n",
        "keyword_occurences, dum = count_word(movies, 'genres', genre_labels)\n",
        "keyword_occurences[:5]"
      ],
      "execution_count": 16,
      "outputs": [
        {
          "output_type": "execute_result",
          "data": {
            "text/plain": [
              "[['Drama', 1603],\n",
              " ['Comedy', 1200],\n",
              " ['Action', 503],\n",
              " ['Thriller', 492],\n",
              " ['Romance', 471]]"
            ]
          },
          "metadata": {
            "tags": []
          },
          "execution_count": 16
        }
      ]
    },
    {
      "cell_type": "markdown",
      "metadata": {
        "id": "_xr9MtzKzGog"
      },
      "source": [
        "The top 5 genres are, in that respect order: \n",
        "1. Drama, \n",
        "2. Comedy, \n",
        "3. Action, \n",
        "4. Thriller, and \n",
        "5. Romance."
      ]
    },
    {
      "cell_type": "markdown",
      "metadata": {
        "id": "ordzrZhfzGog"
      },
      "source": [
        "<a id=section6></a>\n",
        "# 6. Content based Recommendation Model\n",
        "\n",
        "### Implementation\n",
        "We will build a Content-Based Recommendation Engine that computes similarity between movies based on movie genres. It will suggest movies that are most similar to a particular movie based on its genre. \n",
        "- To do so, we will make use of the file **movies.csv**."
      ]
    },
    {
      "cell_type": "code",
      "metadata": {
        "id": "7b1IEZk4zGoi"
      },
      "source": [
        "# Break up the big genre string into a string array\n",
        "movies['genres'] = movies['genres'].str.split('|')\n",
        "\n",
        "# Convert genres to string value\n",
        "movies['genres'] = movies['genres'].fillna(\"\").astype('str')"
      ],
      "execution_count": 17,
      "outputs": []
    },
    {
      "cell_type": "markdown",
      "metadata": {
        "id": "-A1EZAuszGok"
      },
      "source": [
        "- We do not have a quantitative metric to judge our machine's performance so this will have to be done qualitatively. \n",
        "- In order to do so, we'll use **TfidfVectorizer** function from **scikit-learn**, which transforms text to feature vectors that can be used as input to estimator."
      ]
    },
    {
      "cell_type": "code",
      "metadata": {
        "colab": {
          "base_uri": "https://localhost:8080/"
        },
        "id": "brxKF8C_zGok",
        "outputId": "0d3a05fd-ab01-49a7-c797-8273f31df898"
      },
      "source": [
        "from sklearn.feature_extraction.text import TfidfVectorizer\n",
        "tf = TfidfVectorizer(analyzer='word',ngram_range=(1, 2),min_df=0, stop_words='english')\n",
        "tfidf_matrix = tf.fit_transform(movies['genres'])\n",
        "tfidf_matrix.shape"
      ],
      "execution_count": 18,
      "outputs": [
        {
          "output_type": "execute_result",
          "data": {
            "text/plain": [
              "(3883, 127)"
            ]
          },
          "metadata": {
            "tags": []
          },
          "execution_count": 18
        }
      ]
    },
    {
      "cell_type": "markdown",
      "metadata": {
        "id": "e7rOxbnAzGom"
      },
      "source": [
        "- Further we will be using the **Cosine Similarity** to calculate a numeric quantity that denotes the similarity between two movies. \n",
        "- Since we have used the TF-IDF Vectorizer, calculating the Dot Product will directly give us the Cosine Similarity Score.\n",
        "- Therefore, we will use sklearn's **linear_kernel** instead of cosine_similarities since it is much faster."
      ]
    },
    {
      "cell_type": "code",
      "metadata": {
        "colab": {
          "base_uri": "https://localhost:8080/"
        },
        "id": "m-iQ4w35zGon",
        "outputId": "75d4235f-f3ef-496d-c0a0-c2f90b2d5bf7"
      },
      "source": [
        "from sklearn.metrics.pairwise import linear_kernel\n",
        "cosine_sim = linear_kernel(tfidf_matrix, tfidf_matrix)\n",
        "cosine_sim[:4, :4]"
      ],
      "execution_count": 19,
      "outputs": [
        {
          "output_type": "execute_result",
          "data": {
            "text/plain": [
              "array([[1.        , 0.14193614, 0.09010857, 0.1056164 ],\n",
              "       [0.14193614, 1.        , 0.        , 0.        ],\n",
              "       [0.09010857, 0.        , 1.        , 0.1719888 ],\n",
              "       [0.1056164 , 0.        , 0.1719888 , 1.        ]])"
            ]
          },
          "metadata": {
            "tags": []
          },
          "execution_count": 19
        }
      ]
    },
    {
      "cell_type": "code",
      "metadata": {
        "colab": {
          "base_uri": "https://localhost:8080/"
        },
        "id": "nPXeqx-qzGoq",
        "outputId": "78acc8c4-c4ad-411d-ed8e-acc611310591"
      },
      "source": [
        "cosine_sim.shape"
      ],
      "execution_count": 20,
      "outputs": [
        {
          "output_type": "execute_result",
          "data": {
            "text/plain": [
              "(3883, 3883)"
            ]
          },
          "metadata": {
            "tags": []
          },
          "execution_count": 20
        }
      ]
    },
    {
      "cell_type": "markdown",
      "metadata": {
        "id": "GL_9Mr29zGou"
      },
      "source": [
        "- Now have a pairwise cosine similarity matrix for all the movies in the dataset. \n",
        "- Create a function that returns the 20 most similar movies based on the cosine similarity score."
      ]
    },
    {
      "cell_type": "markdown",
      "metadata": {
        "id": "b8AXHs4pzGou"
      },
      "source": [
        "#### Build a 1-dimensional array with movie titles"
      ]
    },
    {
      "cell_type": "code",
      "metadata": {
        "id": "s-Mqd2TEzGov"
      },
      "source": [
        "titles = movies['title']\n",
        "indices = pd.Series(movies.index, index=movies['title'])"
      ],
      "execution_count": 21,
      "outputs": []
    },
    {
      "cell_type": "markdown",
      "metadata": {
        "id": "1x61Q-XTzGox"
      },
      "source": [
        "#### Function that get movie recommendations based on the cosine similarity score of movie genres"
      ]
    },
    {
      "cell_type": "code",
      "metadata": {
        "id": "Ql7g2p07zGox"
      },
      "source": [
        "def genre_recommendations(title):\n",
        "    idx = indices[title]\n",
        "    sim_scores = list(enumerate(cosine_sim[idx]))\n",
        "    sim_scores = sorted(sim_scores, key=lambda x: x[1], reverse=True)\n",
        "    sim_scores = sim_scores[1:21]\n",
        "    movie_indices = [i[0] for i in sim_scores]\n",
        "    return titles.iloc[movie_indices]"
      ],
      "execution_count": 22,
      "outputs": []
    },
    {
      "cell_type": "markdown",
      "metadata": {
        "id": "ynlgukRYzGoz"
      },
      "source": [
        "Let's try and get the top recommendations for a few movies and see how good the recommendations are."
      ]
    },
    {
      "cell_type": "code",
      "metadata": {
        "colab": {
          "base_uri": "https://localhost:8080/"
        },
        "id": "iUW2-U9BzGo0",
        "outputId": "e4402f56-cf91-4276-9473-6e9309bf9b5f"
      },
      "source": [
        "genre_recommendations('Good Will Hunting (1997)').head(10)"
      ],
      "execution_count": 23,
      "outputs": [
        {
          "output_type": "execute_result",
          "data": {
            "text/plain": [
              "25                                       Othello (1995)\n",
              "26                                  Now and Then (1995)\n",
              "29    Shanghai Triad (Yao a yao yao dao waipo qiao) ...\n",
              "30                               Dangerous Minds (1995)\n",
              "35                              Dead Man Walking (1995)\n",
              "39                      Cry, the Beloved Country (1995)\n",
              "42                                   Restoration (1995)\n",
              "52                                      Lamerica (1994)\n",
              "54                                       Georgia (1995)\n",
              "56                         Home for the Holidays (1995)\n",
              "Name: title, dtype: object"
            ]
          },
          "metadata": {
            "tags": []
          },
          "execution_count": 23
        }
      ]
    },
    {
      "cell_type": "code",
      "metadata": {
        "colab": {
          "base_uri": "https://localhost:8080/"
        },
        "id": "oXV5MuAnzGo3",
        "outputId": "dd2759c9-32a8-4fb2-cb2b-6bc0dec7b4ab"
      },
      "source": [
        "genre_recommendations('Toy Story (1995)').head(10)"
      ],
      "execution_count": 24,
      "outputs": [
        {
          "output_type": "execute_result",
          "data": {
            "text/plain": [
              "1050            Aladdin and the King of Thieves (1996)\n",
              "2072                          American Tail, An (1986)\n",
              "2073        American Tail: Fievel Goes West, An (1991)\n",
              "2285                         Rugrats Movie, The (1998)\n",
              "2286                              Bug's Life, A (1998)\n",
              "3045                                Toy Story 2 (1999)\n",
              "3542                             Saludos Amigos (1943)\n",
              "3682                                Chicken Run (2000)\n",
              "3685    Adventures of Rocky and Bullwinkle, The (2000)\n",
              "236                              Goofy Movie, A (1995)\n",
              "Name: title, dtype: object"
            ]
          },
          "metadata": {
            "tags": []
          },
          "execution_count": 24
        }
      ]
    },
    {
      "cell_type": "code",
      "metadata": {
        "colab": {
          "base_uri": "https://localhost:8080/"
        },
        "id": "xPcxASEmzGo5",
        "outputId": "82d06640-1501-42d0-f02b-059472315162"
      },
      "source": [
        "genre_recommendations('Saving Private Ryan (1998)').head(10)"
      ],
      "execution_count": 25,
      "outputs": [
        {
          "output_type": "execute_result",
          "data": {
            "text/plain": [
              "461            Heaven & Earth (1993)\n",
              "1204        Full Metal Jacket (1987)\n",
              "1214     Boat, The (Das Boot) (1981)\n",
              "1222                    Glory (1989)\n",
              "1545                G.I. Jane (1997)\n",
              "1959      Saving Private Ryan (1998)\n",
              "2358       Thin Red Line, The (1998)\n",
              "2993         Longest Day, The (1962)\n",
              "3559            Flying Tigers (1942)\n",
              "3574    Fighting Seabees, The (1944)\n",
              "Name: title, dtype: object"
            ]
          },
          "metadata": {
            "tags": []
          },
          "execution_count": 25
        }
      ]
    },
    {
      "cell_type": "markdown",
      "metadata": {
        "id": "SH5aS6-7zGo-"
      },
      "source": [
        "As we can see, we have quite a decent list of recommendation for **Good Will Hunting** (Drama), **Toy Story** (Animation, Children's, Comedy), and **Saving Private Ryan** (Action, Thriller, War).\n",
        "\n",
        "Overall, here are the pros of using content-based recommendation:\n",
        "* No need for data on other users, thus no cold-start or sparsity problems.\n",
        "* Can recommend to users with unique tastes.\n",
        "* Can recommend new & unpopular items.\n",
        "* Can provide explanations for recommended items by listing content-features that caused an item to be recommended (in this case, movie genres)\n",
        "\n",
        "However, there are some cons of using this approach:\n",
        "* Finding the appropriate features is hard.\n",
        "* Does not recommend items outside a user's content profile.\n",
        "* Unable to exploit quality judgments of other users."
      ]
    },
    {
      "cell_type": "markdown",
      "metadata": {
        "id": "yhhhfXiNzGo-"
      },
      "source": [
        "<a id=section7></a>\n",
        "# 7. Collaborative Filtering Recommendation Model\n",
        "\n",
        "### Implementation\n",
        "We will use the file **ratings.csv** first as it contains User ID, Movie IDs and Ratings. These three elements are all we need for determining the similarity of the users based on their ratings for a particular movie.\n",
        "\n",
        "First, lets do some quick data processing:"
      ]
    },
    {
      "cell_type": "code",
      "metadata": {
        "id": "xtG3ZaoXzGo_"
      },
      "source": [
        "# Fill NaN values in user_id and movie_id column with 0\n",
        "ratings['user_id'] = ratings['user_id'].fillna(0)\n",
        "ratings['movie_id'] = ratings['movie_id'].fillna(0)\n",
        "\n",
        "# Replace NaN values in rating column with average of all values\n",
        "ratings['rating'] = ratings['rating'].fillna(ratings['rating'].mean())"
      ],
      "execution_count": 26,
      "outputs": []
    },
    {
      "cell_type": "markdown",
      "metadata": {
        "id": "OFfhnlmczGpB"
      },
      "source": [
        "Due to the limited computing power, we will build the recommender system using only a subset of the ratings. We will take a random sample of 20,000 ratings (2%) from the 1M ratings."
      ]
    },
    {
      "cell_type": "code",
      "metadata": {
        "colab": {
          "base_uri": "https://localhost:8080/"
        },
        "id": "_mZlqo1wzGpC",
        "outputId": "0f248cc7-8abc-41c4-9b22-fa196a7f5699"
      },
      "source": [
        "# Randomly sample 1% of the ratings dataset\n",
        "small_data = ratings.sample(frac=0.02)\n",
        "\n",
        "# Check the sample info\n",
        "print(small_data.info())"
      ],
      "execution_count": 27,
      "outputs": [
        {
          "output_type": "stream",
          "text": [
            "<class 'pandas.core.frame.DataFrame'>\n",
            "Int64Index: 20004 entries, 165489 to 845809\n",
            "Data columns (total 3 columns):\n",
            " #   Column    Non-Null Count  Dtype\n",
            "---  ------    --------------  -----\n",
            " 0   user_id   20004 non-null  int64\n",
            " 1   movie_id  20004 non-null  int64\n",
            " 2   rating    20004 non-null  int64\n",
            "dtypes: int64(3)\n",
            "memory usage: 625.1 KB\n",
            "None\n"
          ],
          "name": "stdout"
        }
      ]
    },
    {
      "cell_type": "markdown",
      "metadata": {
        "id": "c4-WL_lYzGpE"
      },
      "source": [
        "<a id=section8></a>\n",
        "# 8. Splitting the data"
      ]
    },
    {
      "cell_type": "code",
      "metadata": {
        "colab": {
          "base_uri": "https://localhost:8080/",
          "height": 419
        },
        "id": "Y9Ir1l7dpfIR",
        "outputId": "3893a1ad-10c1-4bb9-bb9a-8a5ae3211fc9"
      },
      "source": [
        "ratings"
      ],
      "execution_count": 49,
      "outputs": [
        {
          "output_type": "execute_result",
          "data": {
            "text/html": [
              "<div>\n",
              "<style scoped>\n",
              "    .dataframe tbody tr th:only-of-type {\n",
              "        vertical-align: middle;\n",
              "    }\n",
              "\n",
              "    .dataframe tbody tr th {\n",
              "        vertical-align: top;\n",
              "    }\n",
              "\n",
              "    .dataframe thead th {\n",
              "        text-align: right;\n",
              "    }\n",
              "</style>\n",
              "<table border=\"1\" class=\"dataframe\">\n",
              "  <thead>\n",
              "    <tr style=\"text-align: right;\">\n",
              "      <th></th>\n",
              "      <th>user_id</th>\n",
              "      <th>movie_id</th>\n",
              "      <th>rating</th>\n",
              "    </tr>\n",
              "  </thead>\n",
              "  <tbody>\n",
              "    <tr>\n",
              "      <th>0</th>\n",
              "      <td>1</td>\n",
              "      <td>1193</td>\n",
              "      <td>5</td>\n",
              "    </tr>\n",
              "    <tr>\n",
              "      <th>1</th>\n",
              "      <td>1</td>\n",
              "      <td>661</td>\n",
              "      <td>3</td>\n",
              "    </tr>\n",
              "    <tr>\n",
              "      <th>2</th>\n",
              "      <td>1</td>\n",
              "      <td>914</td>\n",
              "      <td>3</td>\n",
              "    </tr>\n",
              "    <tr>\n",
              "      <th>3</th>\n",
              "      <td>1</td>\n",
              "      <td>3408</td>\n",
              "      <td>4</td>\n",
              "    </tr>\n",
              "    <tr>\n",
              "      <th>4</th>\n",
              "      <td>1</td>\n",
              "      <td>2355</td>\n",
              "      <td>5</td>\n",
              "    </tr>\n",
              "    <tr>\n",
              "      <th>...</th>\n",
              "      <td>...</td>\n",
              "      <td>...</td>\n",
              "      <td>...</td>\n",
              "    </tr>\n",
              "    <tr>\n",
              "      <th>1000204</th>\n",
              "      <td>6040</td>\n",
              "      <td>1091</td>\n",
              "      <td>1</td>\n",
              "    </tr>\n",
              "    <tr>\n",
              "      <th>1000205</th>\n",
              "      <td>6040</td>\n",
              "      <td>1094</td>\n",
              "      <td>5</td>\n",
              "    </tr>\n",
              "    <tr>\n",
              "      <th>1000206</th>\n",
              "      <td>6040</td>\n",
              "      <td>562</td>\n",
              "      <td>5</td>\n",
              "    </tr>\n",
              "    <tr>\n",
              "      <th>1000207</th>\n",
              "      <td>6040</td>\n",
              "      <td>1096</td>\n",
              "      <td>4</td>\n",
              "    </tr>\n",
              "    <tr>\n",
              "      <th>1000208</th>\n",
              "      <td>6040</td>\n",
              "      <td>1097</td>\n",
              "      <td>4</td>\n",
              "    </tr>\n",
              "  </tbody>\n",
              "</table>\n",
              "<p>1000209 rows × 3 columns</p>\n",
              "</div>"
            ],
            "text/plain": [
              "         user_id  movie_id  rating\n",
              "0              1      1193       5\n",
              "1              1       661       3\n",
              "2              1       914       3\n",
              "3              1      3408       4\n",
              "4              1      2355       5\n",
              "...          ...       ...     ...\n",
              "1000204     6040      1091       1\n",
              "1000205     6040      1094       5\n",
              "1000206     6040       562       5\n",
              "1000207     6040      1096       4\n",
              "1000208     6040      1097       4\n",
              "\n",
              "[1000209 rows x 3 columns]"
            ]
          },
          "metadata": {
            "tags": []
          },
          "execution_count": 49
        }
      ]
    },
    {
      "cell_type": "code",
      "metadata": {
        "id": "e4iVkuNCpeod"
      },
      "source": [
        ""
      ],
      "execution_count": null,
      "outputs": []
    },
    {
      "cell_type": "code",
      "metadata": {
        "id": "MUr3SkUczGpE"
      },
      "source": [
        "from sklearn import model_selection as cv\n",
        "train_data, test_data = cv.train_test_split(small_data, test_size=0.2)"
      ],
      "execution_count": 28,
      "outputs": []
    },
    {
      "cell_type": "markdown",
      "metadata": {
        "id": "X3Xdm-PwzGpH"
      },
      "source": [
        "Now, we need to create a user-item matrix. Since we have splitted the data into testing and training, we need to create two matrices. The training matrix contains 80% of the ratings and the testing matrix contains 20% of the ratings."
      ]
    },
    {
      "cell_type": "code",
      "metadata": {
        "colab": {
          "base_uri": "https://localhost:8080/"
        },
        "id": "QmvmZz8GzGpH",
        "outputId": "7fc3162b-d963-465a-eed3-45ead2ca8760"
      },
      "source": [
        "# Create two user-item matrices, one for training and another for testing\n",
        "train_data_matrix = train_data[['user_id', 'movie_id', 'rating']].values\n",
        "test_data_matrix = test_data[['user_id', 'movie_id', 'rating']].values\n",
        "\n",
        "# Check their shape\n",
        "print(train_data_matrix.shape)\n",
        "print(test_data_matrix.shape)"
      ],
      "execution_count": 29,
      "outputs": [
        {
          "output_type": "stream",
          "text": [
            "(16003, 3)\n",
            "(4001, 3)\n"
          ],
          "name": "stdout"
        }
      ]
    },
    {
      "cell_type": "code",
      "metadata": {
        "colab": {
          "base_uri": "https://localhost:8080/"
        },
        "id": "XRHPTloKpsbs",
        "outputId": "d98440e4-aa1a-41bb-fc2b-259722b0f3b3"
      },
      "source": [
        "type(train_data)"
      ],
      "execution_count": 51,
      "outputs": [
        {
          "output_type": "execute_result",
          "data": {
            "text/plain": [
              "pandas.core.frame.DataFrame"
            ]
          },
          "metadata": {
            "tags": []
          },
          "execution_count": 51
        }
      ]
    },
    {
      "cell_type": "code",
      "metadata": {
        "colab": {
          "base_uri": "https://localhost:8080/"
        },
        "id": "Qn9eIv7IpnFi",
        "outputId": "011ec572-ee15-4c0a-ee71-c1e74e0eb8f8"
      },
      "source": [
        "type(train_data_matrix)"
      ],
      "execution_count": 50,
      "outputs": [
        {
          "output_type": "execute_result",
          "data": {
            "text/plain": [
              "numpy.ndarray"
            ]
          },
          "metadata": {
            "tags": []
          },
          "execution_count": 50
        }
      ]
    },
    {
      "cell_type": "code",
      "metadata": {
        "colab": {
          "base_uri": "https://localhost:8080/",
          "height": 419
        },
        "id": "i-XMrnXaqrSh",
        "outputId": "e888da83-aa52-44eb-e772-265284e7f071"
      },
      "source": [
        "train_data"
      ],
      "execution_count": 52,
      "outputs": [
        {
          "output_type": "execute_result",
          "data": {
            "text/html": [
              "<div>\n",
              "<style scoped>\n",
              "    .dataframe tbody tr th:only-of-type {\n",
              "        vertical-align: middle;\n",
              "    }\n",
              "\n",
              "    .dataframe tbody tr th {\n",
              "        vertical-align: top;\n",
              "    }\n",
              "\n",
              "    .dataframe thead th {\n",
              "        text-align: right;\n",
              "    }\n",
              "</style>\n",
              "<table border=\"1\" class=\"dataframe\">\n",
              "  <thead>\n",
              "    <tr style=\"text-align: right;\">\n",
              "      <th></th>\n",
              "      <th>user_id</th>\n",
              "      <th>movie_id</th>\n",
              "      <th>rating</th>\n",
              "    </tr>\n",
              "  </thead>\n",
              "  <tbody>\n",
              "    <tr>\n",
              "      <th>53035</th>\n",
              "      <td>349</td>\n",
              "      <td>3618</td>\n",
              "      <td>1</td>\n",
              "    </tr>\n",
              "    <tr>\n",
              "      <th>70874</th>\n",
              "      <td>476</td>\n",
              "      <td>2717</td>\n",
              "      <td>4</td>\n",
              "    </tr>\n",
              "    <tr>\n",
              "      <th>768812</th>\n",
              "      <td>4579</td>\n",
              "      <td>1932</td>\n",
              "      <td>3</td>\n",
              "    </tr>\n",
              "    <tr>\n",
              "      <th>890098</th>\n",
              "      <td>5371</td>\n",
              "      <td>2916</td>\n",
              "      <td>4</td>\n",
              "    </tr>\n",
              "    <tr>\n",
              "      <th>66544</th>\n",
              "      <td>445</td>\n",
              "      <td>1320</td>\n",
              "      <td>3</td>\n",
              "    </tr>\n",
              "    <tr>\n",
              "      <th>...</th>\n",
              "      <td>...</td>\n",
              "      <td>...</td>\n",
              "      <td>...</td>\n",
              "    </tr>\n",
              "    <tr>\n",
              "      <th>187535</th>\n",
              "      <td>1164</td>\n",
              "      <td>1678</td>\n",
              "      <td>3</td>\n",
              "    </tr>\n",
              "    <tr>\n",
              "      <th>703673</th>\n",
              "      <td>4220</td>\n",
              "      <td>3039</td>\n",
              "      <td>4</td>\n",
              "    </tr>\n",
              "    <tr>\n",
              "      <th>101059</th>\n",
              "      <td>673</td>\n",
              "      <td>97</td>\n",
              "      <td>5</td>\n",
              "    </tr>\n",
              "    <tr>\n",
              "      <th>206106</th>\n",
              "      <td>1264</td>\n",
              "      <td>529</td>\n",
              "      <td>5</td>\n",
              "    </tr>\n",
              "    <tr>\n",
              "      <th>745899</th>\n",
              "      <td>4451</td>\n",
              "      <td>1405</td>\n",
              "      <td>2</td>\n",
              "    </tr>\n",
              "  </tbody>\n",
              "</table>\n",
              "<p>16003 rows × 3 columns</p>\n",
              "</div>"
            ],
            "text/plain": [
              "        user_id  movie_id  rating\n",
              "53035       349      3618       1\n",
              "70874       476      2717       4\n",
              "768812     4579      1932       3\n",
              "890098     5371      2916       4\n",
              "66544       445      1320       3\n",
              "...         ...       ...     ...\n",
              "187535     1164      1678       3\n",
              "703673     4220      3039       4\n",
              "101059      673        97       5\n",
              "206106     1264       529       5\n",
              "745899     4451      1405       2\n",
              "\n",
              "[16003 rows x 3 columns]"
            ]
          },
          "metadata": {
            "tags": []
          },
          "execution_count": 52
        }
      ]
    },
    {
      "cell_type": "markdown",
      "metadata": {
        "id": "_nKB7n4tzGpJ"
      },
      "source": [
        "Now, we use the **pairwise_distances** function from sklearn to calculate the [Pearson Correlation Coefficient](https://stackoverflow.com/questions/1838806/euclidean-distance-vs-pearson-correlation-vs-cosine-similarity). This method provides a safe way to take a distance matrix as input, while preserving compatibility with many other algorithms that take a vector array."
      ]
    },
    {
      "cell_type": "markdown",
      "metadata": {
        "id": "cVp_Nc3i_LuR"
      },
      "source": [
        "You can use the cosine of the angle to find the similarity between two users. The higher the angle, the lower will be the cosine and thus, the lower will be the similarity of the users. ***You can also inverse the value of the cosine of the angle to get the cosine distance between the users by subtracting it from 1.***\n",
        "\n"
      ]
    },
    {
      "cell_type": "code",
      "metadata": {
        "colab": {
          "base_uri": "https://localhost:8080/"
        },
        "id": "XZbbZApczGpJ",
        "outputId": "c07ebeea-c816-478e-8847-737ceec3eeeb"
      },
      "source": [
        "from sklearn.metrics.pairwise import pairwise_distances\n",
        "\n",
        "# User Similarity Matrix\n",
        "user_correlation = 1-pairwise_distances(train_data, metric='correlation')\n",
        "#user_correlation[np.isnan(user_correlation)] = 0\n",
        "print(user_correlation[:4, :4])"
      ],
      "execution_count": 61,
      "outputs": [
        {
          "output_type": "stream",
          "text": [
            "[[ 1.          0.9970952  -0.00303222  0.13600963]\n",
            " [ 0.9970952   1.          0.07314154  0.21107208]\n",
            " [-0.00303222  0.07314154  1.          0.99029055]\n",
            " [ 0.13600963  0.21107208  0.99029055  1.        ]]\n"
          ],
          "name": "stdout"
        }
      ]
    },
    {
      "cell_type": "code",
      "metadata": {
        "colab": {
          "base_uri": "https://localhost:8080/"
        },
        "id": "Msl0ofCgrCOg",
        "outputId": "1bf91fac-82a5-4310-ad05-3f717d1e10d5"
      },
      "source": [
        "user_correlation[0,:]"
      ],
      "execution_count": 59,
      "outputs": [
        {
          "output_type": "execute_result",
          "data": {
            "text/plain": [
              "array([ 1.        ,  0.9970952 , -0.00303222, ..., -0.30399954,\n",
              "       -0.00914897, -0.12244914])"
            ]
          },
          "metadata": {
            "tags": []
          },
          "execution_count": 59
        }
      ]
    },
    {
      "cell_type": "code",
      "metadata": {
        "colab": {
          "base_uri": "https://localhost:8080/"
        },
        "id": "jZf12dapmBQo",
        "outputId": "3bd754bf-cdc2-4b98-e160-f7536a14cef8"
      },
      "source": [
        "from sklearn.metrics.pairwise import cosine_similarity\n",
        "\n",
        "user_corelation_cos = cosine_similarity(train_data)\n",
        "user_corelation_cos[np.isnan(user_corelation_cos)]=0\n",
        "print(user_corelation_cos[:4,:4])"
      ],
      "execution_count": 44,
      "outputs": [
        {
          "output_type": "stream",
          "text": [
            "[[1.         0.99701558 0.47540902 0.55930947]\n",
            " [0.99701558 1.         0.54190121 0.6216295 ]\n",
            " [0.47540902 0.54190121 1.         0.99518973]\n",
            " [0.55930947 0.6216295  0.99518973 1.        ]]\n"
          ],
          "name": "stdout"
        }
      ]
    },
    {
      "cell_type": "code",
      "metadata": {
        "colab": {
          "base_uri": "https://localhost:8080/"
        },
        "id": "LX4c73zqzGpL",
        "outputId": "91494d46-86b8-4aed-c12a-e89a968c285a"
      },
      "source": [
        "# Item Similarity Matrix\n",
        "item_correlation = 1 - pairwise_distances(train_data_matrix.T, metric='correlation')\n",
        "item_correlation[np.isnan(item_correlation)] = 0\n",
        "print(item_correlation[:4, :4])"
      ],
      "execution_count": 43,
      "outputs": [
        {
          "output_type": "stream",
          "text": [
            "[[ 1.         -0.00755306  0.01316386]\n",
            " [-0.00755306  1.         -0.0638049 ]\n",
            " [ 0.01316386 -0.0638049   1.        ]]\n"
          ],
          "name": "stdout"
        }
      ]
    },
    {
      "cell_type": "markdown",
      "metadata": {
        "id": "LIFm5Vx_zGpQ"
      },
      "source": [
        "- Using the similarity matrix, we can now predict the ratings that were not included with the data. \n",
        "- Using these predictions, we can then compare them with the test data to attempt to validate the quality of our recommender model.\n",
        "\n",
        "For the user-user CF case, we will look at the similarity between 2 users (A and B, for example) as weights that are multiplied by the ratings of a similar user B (corrected for the average rating of that user). \n",
        "- We also need to normalize it so that the ratings stay between 1 and 5 and, as a final step, sum the average ratings for the user that we are trying to predict. \n",
        "- The idea here is that some users may tend always to give high or low ratings to all movies. \n",
        "- The relative difference in the ratings that these users give is more important than the absolute values. "
      ]
    },
    {
      "cell_type": "markdown",
      "metadata": {
        "id": "O91PlnLizGpS"
      },
      "source": [
        "#### Function to predict ratings"
      ]
    },
    {
      "cell_type": "code",
      "metadata": {
        "id": "gn4hhyvczGpS"
      },
      "source": [
        "def predict(ratings, similarity, type='user'):\n",
        "    if type == 'user':\n",
        "        mean_user_rating = ratings.mean(axis=1)\n",
        "        print(mean_user_rating.shape)\n",
        "        print(mean_user_rating)\n",
        "        print(mean_user_rating[:,np.newaxis])\n",
        "        print(mean_user_rating[:,np.newaxis].shape)\n",
        "        # Use np.newaxis so that mean_user_rating has same format as ratings\n",
        "        ratings_diff = (ratings - mean_user_rating[:, np.newaxis]). ### With np.newaxis, we are converting from 1D to 2D array in Numpy\n",
        "        #We would now de-normalize the rating by adding back the mean (normalize = x-xmean ; denormalize = x+xmean)\n",
        "        #Weighted avg = (ratings . similarity matrix)\n",
        "        pred = mean_user_rating[:, np.newaxis] + similarity.dot(ratings_diff) / np.array([np.abs(similarity).sum(axis=1)]).T\n",
        "    elif type == 'item':\n",
        "        #Since you don't have the user-bias to take care of in ratings matrix, you can discard the de-normalize step; Also observe that you are using directly the \"ratings\" and not the \"ratings_diff\".\n",
        "        pred = ratings.dot(similarity) / np.array([np.abs(similarity).sum(axis=1)])\n",
        "    return pred"
      ],
      "execution_count": 73,
      "outputs": []
    },
    {
      "cell_type": "markdown",
      "metadata": {
        "id": "SOHvXv2SzGpT"
      },
      "source": [
        "<a id=section9></a>\n",
        "# 9. Model Evaluation"
      ]
    },
    {
      "cell_type": "markdown",
      "metadata": {
        "id": "CE9cpD3b-mZc"
      },
      "source": [
        "Numpy array flatten() function :\n",
        "\n",
        "![image.png](data:image/png;base64,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)"
      ]
    },
    {
      "cell_type": "code",
      "metadata": {
        "id": "7BSc1T1WzGpU"
      },
      "source": [
        "from sklearn.metrics import mean_squared_error\n",
        "from math import sqrt\n",
        "\n",
        "# Function to calculate RMSE\n",
        "def rmse(pred, actual):\n",
        "    # Ignore nonzero terms.\n",
        "    pred = pred[actual.nonzero()].flatten()\n",
        "    actual = actual[actual.nonzero()].flatten()\n",
        "    return sqrt(mean_squared_error(pred, actual))"
      ],
      "execution_count": 76,
      "outputs": []
    },
    {
      "cell_type": "code",
      "metadata": {
        "colab": {
          "base_uri": "https://localhost:8080/"
        },
        "id": "Kx1V2oVEzGpV",
        "outputId": "1a3336da-4622-4a92-edbc-cbd9bf35e248"
      },
      "source": [
        "# Predict ratings on the training data with both similarity score\n",
        "user_prediction = predict(train_data_matrix, user_correlation, type='user')\n",
        "item_prediction = predict(train_data_matrix, item_correlation, type='item')\n",
        "\n",
        "# RMSE on the test data\n",
        "print('User-based CF RMSE: ' + str(rmse(user_prediction, test_data_matrix)))\n",
        "print('Item-based CF RMSE: ' + str(rmse(item_prediction, test_data_matrix)))"
      ],
      "execution_count": 75,
      "outputs": [
        {
          "output_type": "stream",
          "text": [
            "(16003,)\n",
            "[1322.66666667 1065.66666667 2171.33333333 ...  258.33333333  599.33333333\n",
            " 1952.66666667]\n",
            "[[1322.66666667]\n",
            " [1065.66666667]\n",
            " [2171.33333333]\n",
            " ...\n",
            " [ 258.33333333]\n",
            " [ 599.33333333]\n",
            " [1952.66666667]]\n",
            "(16003, 1)\n",
            "User-based CF RMSE: 1421.3175094989822\n",
            "Item-based CF RMSE: 1647.332141161795\n"
          ],
          "name": "stdout"
        }
      ]
    },
    {
      "cell_type": "code",
      "metadata": {
        "colab": {
          "base_uri": "https://localhost:8080/"
        },
        "id": "Op6LQpuQor8i",
        "outputId": "5294de20-c93b-48f1-e76a-e1f33eda5381"
      },
      "source": [
        "user_prediction"
      ],
      "execution_count": 48,
      "outputs": [
        {
          "output_type": "execute_result",
          "data": {
            "text/plain": [
              "array([[ 1111.71579911,  2395.74130553,   460.54289537],\n",
              "       [ 1097.04754219,  2105.43198157,    -5.47952376],\n",
              "       [ 3917.84677503,  2148.75408546,   447.39913951],\n",
              "       ...,\n",
              "       [ 2139.67244393,    38.2806132 , -1402.95305713],\n",
              "       [ 2349.51844636,   573.11027678, -1124.62872314],\n",
              "       [ 3764.46065528,  1856.5498639 ,   236.98948083]])"
            ]
          },
          "metadata": {
            "tags": []
          },
          "execution_count": 48
        }
      ]
    },
    {
      "cell_type": "code",
      "metadata": {
        "colab": {
          "base_uri": "https://localhost:8080/",
          "height": 50
        },
        "id": "QrPN0JROzGpY",
        "outputId": "311abe94-f035-4481-d8a4-e96900988ba1"
      },
      "source": [
        "# RMSE on the train data\n",
        "print('User-based CF RMSE: ' + str(rmse(user_prediction, train_data_matrix)))\n",
        "print('Item-based CF RMSE: ' + str(rmse(item_prediction, train_data_matrix)))"
      ],
      "execution_count": null,
      "outputs": [
        {
          "output_type": "stream",
          "text": [
            "User-based CF RMSE: 690.8190924072442\n",
            "Item-based CF RMSE: 191.77285010643928\n"
          ],
          "name": "stdout"
        }
      ]
    },
    {
      "cell_type": "markdown",
      "metadata": {
        "id": "IS5ofZ6mzGpa"
      },
      "source": [
        "RMSE of training of model is a metric which measure how much the signal and the noise is explained by the model. We noticed that our RMSE is quite big. We suppose we might have overfitted the training data.\n",
        "\n",
        "Overall, Memory-based Collaborative Filtering is easy to implement and produce reasonable prediction quality. However, there are some drawbacks of this approach:\n",
        "\n",
        "* It doesn't address the well-known cold-start problem, that is when new user or new item enters the system. \n",
        "* It can't deal with sparse data, meaning it's hard to find users that have rated the same items.\n",
        "* It suffers when new users or items that don't have any ratings enter the system.\n",
        "* It tends to recommend popular items."
      ]
    },
    {
      "cell_type": "markdown",
      "metadata": {
        "id": "fE2a55X4zGph"
      },
      "source": [
        "<a id=section10></a>\n",
        "# 10. Model based Collaborative Filtering"
      ]
    },
    {
      "cell_type": "markdown",
      "metadata": {
        "id": "Q4deX-vBzGph"
      },
      "source": [
        "### Using K-NN"
      ]
    },
    {
      "cell_type": "code",
      "metadata": {
        "colab": {
          "base_uri": "https://localhost:8080/",
          "height": 34
        },
        "id": "y5aqsueTwvJ0",
        "outputId": "eacff63b-f4ce-41cd-fb29-1c52d4876482"
      },
      "source": [
        "n_users = ratings.user_id.unique().shape[0]\n",
        "n_movies = ratings.movie_id.unique().shape[0]\n",
        "print ('Number of users = ' + str(n_users) + ' | Number of movies = ' + str(n_movies))"
      ],
      "execution_count": null,
      "outputs": [
        {
          "output_type": "stream",
          "text": [
            "Number of users = 6040 | Number of movies = 3706\n"
          ],
          "name": "stdout"
        }
      ]
    },
    {
      "cell_type": "code",
      "metadata": {
        "colab": {
          "base_uri": "https://localhost:8080/",
          "height": 274
        },
        "id": "bDvSYbFgwvJ4",
        "outputId": "44c7e07b-a4e2-4693-90ef-6e468d526211"
      },
      "source": [
        "Ratings = ratings.pivot(index = 'user_id', columns ='movie_id', values = 'rating').fillna(0)\n",
        "Ratings.head()"
      ],
      "execution_count": null,
      "outputs": [
        {
          "output_type": "execute_result",
          "data": {
            "text/html": [
              "<div>\n",
              "<style scoped>\n",
              "    .dataframe tbody tr th:only-of-type {\n",
              "        vertical-align: middle;\n",
              "    }\n",
              "\n",
              "    .dataframe tbody tr th {\n",
              "        vertical-align: top;\n",
              "    }\n",
              "\n",
              "    .dataframe thead th {\n",
              "        text-align: right;\n",
              "    }\n",
              "</style>\n",
              "<table border=\"1\" class=\"dataframe\">\n",
              "  <thead>\n",
              "    <tr style=\"text-align: right;\">\n",
              "      <th>movie_id</th>\n",
              "      <th>1</th>\n",
              "      <th>2</th>\n",
              "      <th>3</th>\n",
              "      <th>4</th>\n",
              "      <th>5</th>\n",
              "      <th>6</th>\n",
              "      <th>7</th>\n",
              "      <th>8</th>\n",
              "      <th>9</th>\n",
              "      <th>10</th>\n",
              "      <th>11</th>\n",
              "      <th>12</th>\n",
              "      <th>13</th>\n",
              "      <th>14</th>\n",
              "      <th>15</th>\n",
              "      <th>16</th>\n",
              "      <th>17</th>\n",
              "      <th>18</th>\n",
              "      <th>19</th>\n",
              "      <th>20</th>\n",
              "      <th>21</th>\n",
              "      <th>22</th>\n",
              "      <th>23</th>\n",
              "      <th>24</th>\n",
              "      <th>25</th>\n",
              "      <th>26</th>\n",
              "      <th>27</th>\n",
              "      <th>28</th>\n",
              "      <th>29</th>\n",
              "      <th>30</th>\n",
              "      <th>31</th>\n",
              "      <th>32</th>\n",
              "      <th>33</th>\n",
              "      <th>34</th>\n",
              "      <th>35</th>\n",
              "      <th>36</th>\n",
              "      <th>37</th>\n",
              "      <th>38</th>\n",
              "      <th>39</th>\n",
              "      <th>40</th>\n",
              "      <th>...</th>\n",
              "      <th>3913</th>\n",
              "      <th>3914</th>\n",
              "      <th>3915</th>\n",
              "      <th>3916</th>\n",
              "      <th>3917</th>\n",
              "      <th>3918</th>\n",
              "      <th>3919</th>\n",
              "      <th>3920</th>\n",
              "      <th>3921</th>\n",
              "      <th>3922</th>\n",
              "      <th>3923</th>\n",
              "      <th>3924</th>\n",
              "      <th>3925</th>\n",
              "      <th>3926</th>\n",
              "      <th>3927</th>\n",
              "      <th>3928</th>\n",
              "      <th>3929</th>\n",
              "      <th>3930</th>\n",
              "      <th>3931</th>\n",
              "      <th>3932</th>\n",
              "      <th>3933</th>\n",
              "      <th>3934</th>\n",
              "      <th>3935</th>\n",
              "      <th>3936</th>\n",
              "      <th>3937</th>\n",
              "      <th>3938</th>\n",
              "      <th>3939</th>\n",
              "      <th>3940</th>\n",
              "      <th>3941</th>\n",
              "      <th>3942</th>\n",
              "      <th>3943</th>\n",
              "      <th>3944</th>\n",
              "      <th>3945</th>\n",
              "      <th>3946</th>\n",
              "      <th>3947</th>\n",
              "      <th>3948</th>\n",
              "      <th>3949</th>\n",
              "      <th>3950</th>\n",
              "      <th>3951</th>\n",
              "      <th>3952</th>\n",
              "    </tr>\n",
              "    <tr>\n",
              "      <th>user_id</th>\n",
              "      <th></th>\n",
              "      <th></th>\n",
              "      <th></th>\n",
              "      <th></th>\n",
              "      <th></th>\n",
              "      <th></th>\n",
              "      <th></th>\n",
              "      <th></th>\n",
              "      <th></th>\n",
              "      <th></th>\n",
              "      <th></th>\n",
              "      <th></th>\n",
              "      <th></th>\n",
              "      <th></th>\n",
              "      <th></th>\n",
              "      <th></th>\n",
              "      <th></th>\n",
              "      <th></th>\n",
              "      <th></th>\n",
              "      <th></th>\n",
              "      <th></th>\n",
              "      <th></th>\n",
              "      <th></th>\n",
              "      <th></th>\n",
              "      <th></th>\n",
              "      <th></th>\n",
              "      <th></th>\n",
              "      <th></th>\n",
              "      <th></th>\n",
              "      <th></th>\n",
              "      <th></th>\n",
              "      <th></th>\n",
              "      <th></th>\n",
              "      <th></th>\n",
              "      <th></th>\n",
              "      <th></th>\n",
              "      <th></th>\n",
              "      <th></th>\n",
              "      <th></th>\n",
              "      <th></th>\n",
              "      <th></th>\n",
              "      <th></th>\n",
              "      <th></th>\n",
              "      <th></th>\n",
              "      <th></th>\n",
              "      <th></th>\n",
              "      <th></th>\n",
              "      <th></th>\n",
              "      <th></th>\n",
              "      <th></th>\n",
              "      <th></th>\n",
              "      <th></th>\n",
              "      <th></th>\n",
              "      <th></th>\n",
              "      <th></th>\n",
              "      <th></th>\n",
              "      <th></th>\n",
              "      <th></th>\n",
              "      <th></th>\n",
              "      <th></th>\n",
              "      <th></th>\n",
              "      <th></th>\n",
              "      <th></th>\n",
              "      <th></th>\n",
              "      <th></th>\n",
              "      <th></th>\n",
              "      <th></th>\n",
              "      <th></th>\n",
              "      <th></th>\n",
              "      <th></th>\n",
              "      <th></th>\n",
              "      <th></th>\n",
              "      <th></th>\n",
              "      <th></th>\n",
              "      <th></th>\n",
              "      <th></th>\n",
              "      <th></th>\n",
              "      <th></th>\n",
              "      <th></th>\n",
              "      <th></th>\n",
              "      <th></th>\n",
              "    </tr>\n",
              "  </thead>\n",
              "  <tbody>\n",
              "    <tr>\n",
              "      <th>1</th>\n",
              "      <td>5.0</td>\n",
              "      <td>0.0</td>\n",
              "      <td>0.0</td>\n",
              "      <td>0.0</td>\n",
              "      <td>0.0</td>\n",
              "      <td>0.0</td>\n",
              "      <td>0.0</td>\n",
              "      <td>0.0</td>\n",
              "      <td>0.0</td>\n",
              "      <td>0.0</td>\n",
              "      <td>0.0</td>\n",
              "      <td>0.0</td>\n",
              "      <td>0.0</td>\n",
              "      <td>0.0</td>\n",
              "      <td>0.0</td>\n",
              "      <td>0.0</td>\n",
              "      <td>0.0</td>\n",
              "      <td>0.0</td>\n",
              "      <td>0.0</td>\n",
              "      <td>0.0</td>\n",
              "      <td>0.0</td>\n",
              "      <td>0.0</td>\n",
              "      <td>0.0</td>\n",
              "      <td>0.0</td>\n",
              "      <td>0.0</td>\n",
              "      <td>0.0</td>\n",
              "      <td>0.0</td>\n",
              "      <td>0.0</td>\n",
              "      <td>0.0</td>\n",
              "      <td>0.0</td>\n",
              "      <td>0.0</td>\n",
              "      <td>0.0</td>\n",
              "      <td>0.0</td>\n",
              "      <td>0.0</td>\n",
              "      <td>0.0</td>\n",
              "      <td>0.0</td>\n",
              "      <td>0.0</td>\n",
              "      <td>0.0</td>\n",
              "      <td>0.0</td>\n",
              "      <td>0.0</td>\n",
              "      <td>...</td>\n",
              "      <td>0.0</td>\n",
              "      <td>0.0</td>\n",
              "      <td>0.0</td>\n",
              "      <td>0.0</td>\n",
              "      <td>0.0</td>\n",
              "      <td>0.0</td>\n",
              "      <td>0.0</td>\n",
              "      <td>0.0</td>\n",
              "      <td>0.0</td>\n",
              "      <td>0.0</td>\n",
              "      <td>0.0</td>\n",
              "      <td>0.0</td>\n",
              "      <td>0.0</td>\n",
              "      <td>0.0</td>\n",
              "      <td>0.0</td>\n",
              "      <td>0.0</td>\n",
              "      <td>0.0</td>\n",
              "      <td>0.0</td>\n",
              "      <td>0.0</td>\n",
              "      <td>0.0</td>\n",
              "      <td>0.0</td>\n",
              "      <td>0.0</td>\n",
              "      <td>0.0</td>\n",
              "      <td>0.0</td>\n",
              "      <td>0.0</td>\n",
              "      <td>0.0</td>\n",
              "      <td>0.0</td>\n",
              "      <td>0.0</td>\n",
              "      <td>0.0</td>\n",
              "      <td>0.0</td>\n",
              "      <td>0.0</td>\n",
              "      <td>0.0</td>\n",
              "      <td>0.0</td>\n",
              "      <td>0.0</td>\n",
              "      <td>0.0</td>\n",
              "      <td>0.0</td>\n",
              "      <td>0.0</td>\n",
              "      <td>0.0</td>\n",
              "      <td>0.0</td>\n",
              "      <td>0.0</td>\n",
              "    </tr>\n",
              "    <tr>\n",
              "      <th>2</th>\n",
              "      <td>0.0</td>\n",
              "      <td>0.0</td>\n",
              "      <td>0.0</td>\n",
              "      <td>0.0</td>\n",
              "      <td>0.0</td>\n",
              "      <td>0.0</td>\n",
              "      <td>0.0</td>\n",
              "      <td>0.0</td>\n",
              "      <td>0.0</td>\n",
              "      <td>0.0</td>\n",
              "      <td>0.0</td>\n",
              "      <td>0.0</td>\n",
              "      <td>0.0</td>\n",
              "      <td>0.0</td>\n",
              "      <td>0.0</td>\n",
              "      <td>0.0</td>\n",
              "      <td>0.0</td>\n",
              "      <td>0.0</td>\n",
              "      <td>0.0</td>\n",
              "      <td>0.0</td>\n",
              "      <td>1.0</td>\n",
              "      <td>0.0</td>\n",
              "      <td>0.0</td>\n",
              "      <td>0.0</td>\n",
              "      <td>0.0</td>\n",
              "      <td>0.0</td>\n",
              "      <td>0.0</td>\n",
              "      <td>0.0</td>\n",
              "      <td>0.0</td>\n",
              "      <td>0.0</td>\n",
              "      <td>0.0</td>\n",
              "      <td>0.0</td>\n",
              "      <td>0.0</td>\n",
              "      <td>0.0</td>\n",
              "      <td>0.0</td>\n",
              "      <td>0.0</td>\n",
              "      <td>0.0</td>\n",
              "      <td>0.0</td>\n",
              "      <td>0.0</td>\n",
              "      <td>0.0</td>\n",
              "      <td>...</td>\n",
              "      <td>0.0</td>\n",
              "      <td>0.0</td>\n",
              "      <td>0.0</td>\n",
              "      <td>0.0</td>\n",
              "      <td>0.0</td>\n",
              "      <td>0.0</td>\n",
              "      <td>0.0</td>\n",
              "      <td>0.0</td>\n",
              "      <td>0.0</td>\n",
              "      <td>0.0</td>\n",
              "      <td>0.0</td>\n",
              "      <td>0.0</td>\n",
              "      <td>0.0</td>\n",
              "      <td>0.0</td>\n",
              "      <td>0.0</td>\n",
              "      <td>0.0</td>\n",
              "      <td>0.0</td>\n",
              "      <td>0.0</td>\n",
              "      <td>0.0</td>\n",
              "      <td>0.0</td>\n",
              "      <td>0.0</td>\n",
              "      <td>0.0</td>\n",
              "      <td>0.0</td>\n",
              "      <td>0.0</td>\n",
              "      <td>0.0</td>\n",
              "      <td>0.0</td>\n",
              "      <td>0.0</td>\n",
              "      <td>0.0</td>\n",
              "      <td>0.0</td>\n",
              "      <td>0.0</td>\n",
              "      <td>0.0</td>\n",
              "      <td>0.0</td>\n",
              "      <td>0.0</td>\n",
              "      <td>0.0</td>\n",
              "      <td>0.0</td>\n",
              "      <td>0.0</td>\n",
              "      <td>0.0</td>\n",
              "      <td>0.0</td>\n",
              "      <td>0.0</td>\n",
              "      <td>0.0</td>\n",
              "    </tr>\n",
              "    <tr>\n",
              "      <th>3</th>\n",
              "      <td>0.0</td>\n",
              "      <td>0.0</td>\n",
              "      <td>0.0</td>\n",
              "      <td>0.0</td>\n",
              "      <td>0.0</td>\n",
              "      <td>0.0</td>\n",
              "      <td>0.0</td>\n",
              "      <td>0.0</td>\n",
              "      <td>0.0</td>\n",
              "      <td>0.0</td>\n",
              "      <td>0.0</td>\n",
              "      <td>0.0</td>\n",
              "      <td>0.0</td>\n",
              "      <td>0.0</td>\n",
              "      <td>0.0</td>\n",
              "      <td>0.0</td>\n",
              "      <td>0.0</td>\n",
              "      <td>0.0</td>\n",
              "      <td>0.0</td>\n",
              "      <td>0.0</td>\n",
              "      <td>0.0</td>\n",
              "      <td>0.0</td>\n",
              "      <td>0.0</td>\n",
              "      <td>0.0</td>\n",
              "      <td>0.0</td>\n",
              "      <td>0.0</td>\n",
              "      <td>0.0</td>\n",
              "      <td>0.0</td>\n",
              "      <td>0.0</td>\n",
              "      <td>0.0</td>\n",
              "      <td>0.0</td>\n",
              "      <td>0.0</td>\n",
              "      <td>0.0</td>\n",
              "      <td>0.0</td>\n",
              "      <td>0.0</td>\n",
              "      <td>0.0</td>\n",
              "      <td>0.0</td>\n",
              "      <td>0.0</td>\n",
              "      <td>0.0</td>\n",
              "      <td>0.0</td>\n",
              "      <td>...</td>\n",
              "      <td>0.0</td>\n",
              "      <td>0.0</td>\n",
              "      <td>0.0</td>\n",
              "      <td>0.0</td>\n",
              "      <td>0.0</td>\n",
              "      <td>0.0</td>\n",
              "      <td>0.0</td>\n",
              "      <td>0.0</td>\n",
              "      <td>0.0</td>\n",
              "      <td>0.0</td>\n",
              "      <td>0.0</td>\n",
              "      <td>0.0</td>\n",
              "      <td>0.0</td>\n",
              "      <td>0.0</td>\n",
              "      <td>0.0</td>\n",
              "      <td>0.0</td>\n",
              "      <td>0.0</td>\n",
              "      <td>0.0</td>\n",
              "      <td>0.0</td>\n",
              "      <td>0.0</td>\n",
              "      <td>0.0</td>\n",
              "      <td>0.0</td>\n",
              "      <td>0.0</td>\n",
              "      <td>0.0</td>\n",
              "      <td>0.0</td>\n",
              "      <td>0.0</td>\n",
              "      <td>0.0</td>\n",
              "      <td>0.0</td>\n",
              "      <td>0.0</td>\n",
              "      <td>0.0</td>\n",
              "      <td>0.0</td>\n",
              "      <td>0.0</td>\n",
              "      <td>0.0</td>\n",
              "      <td>0.0</td>\n",
              "      <td>0.0</td>\n",
              "      <td>0.0</td>\n",
              "      <td>0.0</td>\n",
              "      <td>0.0</td>\n",
              "      <td>0.0</td>\n",
              "      <td>0.0</td>\n",
              "    </tr>\n",
              "    <tr>\n",
              "      <th>4</th>\n",
              "      <td>0.0</td>\n",
              "      <td>0.0</td>\n",
              "      <td>0.0</td>\n",
              "      <td>0.0</td>\n",
              "      <td>0.0</td>\n",
              "      <td>0.0</td>\n",
              "      <td>0.0</td>\n",
              "      <td>0.0</td>\n",
              "      <td>0.0</td>\n",
              "      <td>0.0</td>\n",
              "      <td>0.0</td>\n",
              "      <td>0.0</td>\n",
              "      <td>0.0</td>\n",
              "      <td>0.0</td>\n",
              "      <td>0.0</td>\n",
              "      <td>0.0</td>\n",
              "      <td>0.0</td>\n",
              "      <td>0.0</td>\n",
              "      <td>0.0</td>\n",
              "      <td>0.0</td>\n",
              "      <td>0.0</td>\n",
              "      <td>0.0</td>\n",
              "      <td>0.0</td>\n",
              "      <td>0.0</td>\n",
              "      <td>0.0</td>\n",
              "      <td>0.0</td>\n",
              "      <td>0.0</td>\n",
              "      <td>0.0</td>\n",
              "      <td>0.0</td>\n",
              "      <td>0.0</td>\n",
              "      <td>0.0</td>\n",
              "      <td>0.0</td>\n",
              "      <td>0.0</td>\n",
              "      <td>0.0</td>\n",
              "      <td>0.0</td>\n",
              "      <td>0.0</td>\n",
              "      <td>0.0</td>\n",
              "      <td>0.0</td>\n",
              "      <td>0.0</td>\n",
              "      <td>0.0</td>\n",
              "      <td>...</td>\n",
              "      <td>0.0</td>\n",
              "      <td>0.0</td>\n",
              "      <td>0.0</td>\n",
              "      <td>0.0</td>\n",
              "      <td>0.0</td>\n",
              "      <td>0.0</td>\n",
              "      <td>0.0</td>\n",
              "      <td>0.0</td>\n",
              "      <td>0.0</td>\n",
              "      <td>0.0</td>\n",
              "      <td>0.0</td>\n",
              "      <td>0.0</td>\n",
              "      <td>0.0</td>\n",
              "      <td>0.0</td>\n",
              "      <td>0.0</td>\n",
              "      <td>0.0</td>\n",
              "      <td>0.0</td>\n",
              "      <td>0.0</td>\n",
              "      <td>0.0</td>\n",
              "      <td>0.0</td>\n",
              "      <td>0.0</td>\n",
              "      <td>0.0</td>\n",
              "      <td>0.0</td>\n",
              "      <td>0.0</td>\n",
              "      <td>0.0</td>\n",
              "      <td>0.0</td>\n",
              "      <td>0.0</td>\n",
              "      <td>0.0</td>\n",
              "      <td>0.0</td>\n",
              "      <td>0.0</td>\n",
              "      <td>0.0</td>\n",
              "      <td>0.0</td>\n",
              "      <td>0.0</td>\n",
              "      <td>0.0</td>\n",
              "      <td>0.0</td>\n",
              "      <td>0.0</td>\n",
              "      <td>0.0</td>\n",
              "      <td>0.0</td>\n",
              "      <td>0.0</td>\n",
              "      <td>0.0</td>\n",
              "    </tr>\n",
              "    <tr>\n",
              "      <th>5</th>\n",
              "      <td>0.0</td>\n",
              "      <td>0.0</td>\n",
              "      <td>0.0</td>\n",
              "      <td>0.0</td>\n",
              "      <td>0.0</td>\n",
              "      <td>2.0</td>\n",
              "      <td>0.0</td>\n",
              "      <td>0.0</td>\n",
              "      <td>0.0</td>\n",
              "      <td>0.0</td>\n",
              "      <td>0.0</td>\n",
              "      <td>0.0</td>\n",
              "      <td>0.0</td>\n",
              "      <td>0.0</td>\n",
              "      <td>0.0</td>\n",
              "      <td>3.0</td>\n",
              "      <td>0.0</td>\n",
              "      <td>0.0</td>\n",
              "      <td>0.0</td>\n",
              "      <td>0.0</td>\n",
              "      <td>0.0</td>\n",
              "      <td>0.0</td>\n",
              "      <td>0.0</td>\n",
              "      <td>1.0</td>\n",
              "      <td>0.0</td>\n",
              "      <td>0.0</td>\n",
              "      <td>0.0</td>\n",
              "      <td>0.0</td>\n",
              "      <td>5.0</td>\n",
              "      <td>0.0</td>\n",
              "      <td>0.0</td>\n",
              "      <td>4.0</td>\n",
              "      <td>0.0</td>\n",
              "      <td>4.0</td>\n",
              "      <td>0.0</td>\n",
              "      <td>3.0</td>\n",
              "      <td>0.0</td>\n",
              "      <td>0.0</td>\n",
              "      <td>3.0</td>\n",
              "      <td>0.0</td>\n",
              "      <td>...</td>\n",
              "      <td>0.0</td>\n",
              "      <td>0.0</td>\n",
              "      <td>0.0</td>\n",
              "      <td>0.0</td>\n",
              "      <td>0.0</td>\n",
              "      <td>0.0</td>\n",
              "      <td>0.0</td>\n",
              "      <td>0.0</td>\n",
              "      <td>0.0</td>\n",
              "      <td>0.0</td>\n",
              "      <td>0.0</td>\n",
              "      <td>0.0</td>\n",
              "      <td>0.0</td>\n",
              "      <td>0.0</td>\n",
              "      <td>0.0</td>\n",
              "      <td>0.0</td>\n",
              "      <td>0.0</td>\n",
              "      <td>0.0</td>\n",
              "      <td>0.0</td>\n",
              "      <td>0.0</td>\n",
              "      <td>0.0</td>\n",
              "      <td>0.0</td>\n",
              "      <td>0.0</td>\n",
              "      <td>0.0</td>\n",
              "      <td>0.0</td>\n",
              "      <td>0.0</td>\n",
              "      <td>0.0</td>\n",
              "      <td>0.0</td>\n",
              "      <td>0.0</td>\n",
              "      <td>0.0</td>\n",
              "      <td>0.0</td>\n",
              "      <td>0.0</td>\n",
              "      <td>0.0</td>\n",
              "      <td>0.0</td>\n",
              "      <td>0.0</td>\n",
              "      <td>0.0</td>\n",
              "      <td>0.0</td>\n",
              "      <td>0.0</td>\n",
              "      <td>0.0</td>\n",
              "      <td>0.0</td>\n",
              "    </tr>\n",
              "  </tbody>\n",
              "</table>\n",
              "<p>5 rows × 3706 columns</p>\n",
              "</div>"
            ],
            "text/plain": [
              "movie_id  1     2     3     4     5     ...  3948  3949  3950  3951  3952\n",
              "user_id                                 ...                              \n",
              "1          5.0   0.0   0.0   0.0   0.0  ...   0.0   0.0   0.0   0.0   0.0\n",
              "2          0.0   0.0   0.0   0.0   0.0  ...   0.0   0.0   0.0   0.0   0.0\n",
              "3          0.0   0.0   0.0   0.0   0.0  ...   0.0   0.0   0.0   0.0   0.0\n",
              "4          0.0   0.0   0.0   0.0   0.0  ...   0.0   0.0   0.0   0.0   0.0\n",
              "5          0.0   0.0   0.0   0.0   0.0  ...   0.0   0.0   0.0   0.0   0.0\n",
              "\n",
              "[5 rows x 3706 columns]"
            ]
          },
          "metadata": {
            "tags": []
          },
          "execution_count": 35
        }
      ]
    },
    {
      "cell_type": "code",
      "metadata": {
        "colab": {
          "base_uri": "https://localhost:8080/",
          "height": 67
        },
        "id": "FHrzmnwSzGph",
        "outputId": "e350c65c-104e-4a66-ddcf-f2fa8659691b"
      },
      "source": [
        "from sklearn.neighbors import NearestNeighbors\n",
        "\n",
        "model_knn = NearestNeighbors(metric = 'cosine', algorithm = 'brute')\n",
        "model_knn.fit(Ratings)"
      ],
      "execution_count": null,
      "outputs": [
        {
          "output_type": "execute_result",
          "data": {
            "text/plain": [
              "NearestNeighbors(algorithm='brute', leaf_size=30, metric='cosine',\n",
              "                 metric_params=None, n_jobs=None, n_neighbors=5, p=2,\n",
              "                 radius=1.0)"
            ]
          },
          "metadata": {
            "tags": []
          },
          "execution_count": 36
        }
      ]
    },
    {
      "cell_type": "markdown",
      "metadata": {
        "id": "s_OYKBdvzGpj"
      },
      "source": [
        "#### Testing our model and making some recommendations"
      ]
    },
    {
      "cell_type": "code",
      "metadata": {
        "colab": {
          "base_uri": "https://localhost:8080/",
          "height": 34
        },
        "id": "HhR7ulQnzGpk",
        "outputId": "6df0b9ee-64a8-4a2a-a0ea-34cd397d3109"
      },
      "source": [
        "Ratings.index[0]"
      ],
      "execution_count": null,
      "outputs": [
        {
          "output_type": "execute_result",
          "data": {
            "text/plain": [
              "1"
            ]
          },
          "metadata": {
            "tags": []
          },
          "execution_count": 37
        }
      ]
    },
    {
      "cell_type": "code",
      "metadata": {
        "colab": {
          "base_uri": "https://localhost:8080/",
          "height": 134
        },
        "id": "HPlCRqj5zGpm",
        "outputId": "5311a250-130e-44c2-883d-1b9027a89d11"
      },
      "source": [
        "query_index = np.random.choice(Ratings.shape[0])\n",
        "distances, indices = model_knn.kneighbors(Ratings.iloc[query_index, :].values.reshape(1, -1), n_neighbors = 6)\n",
        "\n",
        "for i in range(0, len(distances.flatten())):\n",
        "    if i == 0:\n",
        "        print('Recommendation for {0}:\\n'.format(Ratings.index[query_index]))\n",
        "    else:\n",
        "        print('{0}: {1}, with distance of {2}:'.format(i, Ratings.index[indices.flatten()[i]],distances.flatten()[i]))"
      ],
      "execution_count": null,
      "outputs": [
        {
          "output_type": "stream",
          "text": [
            "Recommendation for 5284:\n",
            "\n",
            "1: 3269, with distance of 0.6148133454965887:\n",
            "2: 4936, with distance of 0.6278643351371822:\n",
            "3: 5921, with distance of 0.6296309512995433:\n",
            "4: 3966, with distance of 0.6305234415327649:\n",
            "5: 1304, with distance of 0.6332544317380528:\n"
          ],
          "name": "stdout"
        }
      ]
    },
    {
      "cell_type": "markdown",
      "metadata": {
        "id": "3amJ4zypzGpn"
      },
      "source": [
        "#### Checking sparisty level of the dataset"
      ]
    },
    {
      "cell_type": "code",
      "metadata": {
        "colab": {
          "base_uri": "https://localhost:8080/",
          "height": 34
        },
        "id": "00kkUQdizGpo",
        "outputId": "6afbf6f4-c066-4a72-cea7-c071b3eb3ece"
      },
      "source": [
        "sparsity = round(1.0 - len(ratings) / float(n_users * n_movies), 3)\n",
        "print('The sparsity level of MovieLens1M dataset is ' +  str(sparsity * 100) + '%')"
      ],
      "execution_count": null,
      "outputs": [
        {
          "output_type": "stream",
          "text": [
            "The sparsity level of MovieLens1M dataset is 95.5%\n"
          ],
          "name": "stdout"
        }
      ]
    },
    {
      "cell_type": "markdown",
      "metadata": {
        "id": "0lY7r8EwzGqM"
      },
      "source": [
        "<a id=section11></a>\n",
        "# 11. Conclusion\n",
        "\n",
        "- Here, we can see that the recommendations (movie_id) are different for each user. So personalization exists, i.e. for different users we have a different set of recommendations.\n",
        "\n",
        "\n",
        "- In this model, we do not have the ratings for each movie given by each user. We must find a way to predict all these missing ratings. For that, we have to find a set of features which can define how a user rates the movies. These are called **latent features**. \n",
        "\n",
        "\n",
        "- We need to find a way to extract the most important latent features from the the existing features. **Matrix factorization**, covered in the next section, is one such technique which uses the lower dimension dense matrix and helps in extracting the important latent features."
      ]
    }
  ]
}